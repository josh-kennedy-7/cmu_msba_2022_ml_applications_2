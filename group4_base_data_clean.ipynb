{
  "nbformat": 4,
  "nbformat_minor": 0,
  "metadata": {
    "colab": {
      "name": "Group4.ipynb",
      "provenance": [],
      "collapsed_sections": []
    },
    "kernelspec": {
      "name": "python3",
      "display_name": "Python 3"
    },
    "language_info": {
      "name": "python"
    }
  },
  "cells": [
    {
      "cell_type": "code",
      "metadata": {
        "colab": {
          "base_uri": "https://localhost:8080/"
        },
        "id": "yvwZ9FDX9MqP",
        "outputId": "b7b12caa-d5c5-402c-ffda-ca5714bb4483"
      },
      "source": [
        "#Mounting google drive\n",
        "from google.colab import drive\n",
        "drive.mount(\"/content/gdrive\")\n",
        "\n",
        "path = \"/content/gdrive/MyDrive/MachineLearning_Fall21/Raw_Data/\""
      ],
      "execution_count": null,
      "outputs": [
        {
          "output_type": "stream",
          "name": "stdout",
          "text": [
            "Mounted at /content/gdrive\n"
          ]
        }
      ]
    },
    {
      "cell_type": "code",
      "metadata": {
        "colab": {
          "base_uri": "https://localhost:8080/"
        },
        "id": "dmLiYH6JIzye",
        "outputId": "01cc9d02-335e-4c18-9cad-5c1114859eaa"
      },
      "source": [
        "print(\"test josh - I'm testing this with the group\")"
      ],
      "execution_count": 3,
      "outputs": [
        {
          "output_type": "stream",
          "name": "stdout",
          "text": [
            "test josh - I'm testing this with the group\n"
          ]
        }
      ]
    },
    {
      "cell_type": "code",
      "metadata": {
        "id": "LkptJu5k83pm"
      },
      "source": [
        "import pandas as pd\n",
        "import gzip\n",
        "\n",
        "def readGz(f):\n",
        "    for l in gzip.open(f):\n",
        "        yield eval(l)"
      ],
      "execution_count": null,
      "outputs": []
    },
    {
      "cell_type": "code",
      "metadata": {
        "id": "-ktTMAr19GzL"
      },
      "source": [
        "compiledRatings = dict()\n",
        "\n",
        "for l in readGz(path+\"train.json.gz\"):\n",
        "    row = l['reviewHash']\n",
        "    userRating = dict()\n",
        "\n",
        "    userRating['reviewTime'] = l['reviewTime']\n",
        "    userRating['reviewText'] = l['reviewText']\n",
        "    userRating['helpful'] = l['helpful']\n",
        "    userRating['reviewerID'] = l['reviewerID']\n",
        "    userRating['reviewHash'] = l['reviewHash']\n",
        "    userRating['categories'] = l['categories']\n",
        "    userRating['unixReviewTime'] = l['unixReviewTime']\n",
        "    userRating['itemID'] = l['itemID']\n",
        "    userRating['rating'] = l['rating']\n",
        "    userRating['summary'] = l['summary']\n",
        "    userRating['categoryID'] = l['categoryID']\n",
        "    \n",
        "    compiledRatings[row] = userRating"
      ],
      "execution_count": null,
      "outputs": []
    },
    {
      "cell_type": "code",
      "metadata": {
        "id": "SRko9W8n_0E5"
      },
      "source": [
        "df_train = pd.DataFrame(compiledRatings).T"
      ],
      "execution_count": null,
      "outputs": []
    },
    {
      "cell_type": "code",
      "metadata": {
        "colab": {
          "base_uri": "https://localhost:8080/",
          "height": 1000
        },
        "id": "na8zfGFCuCrf",
        "outputId": "2f5ccab0-4254-48dd-fd7e-db8933426d93"
      },
      "source": [
        "df_train"
      ],
      "execution_count": null,
      "outputs": [
        {
          "output_type": "execute_result",
          "data": {
            "text/html": [
              "<div>\n",
              "<style scoped>\n",
              "    .dataframe tbody tr th:only-of-type {\n",
              "        vertical-align: middle;\n",
              "    }\n",
              "\n",
              "    .dataframe tbody tr th {\n",
              "        vertical-align: top;\n",
              "    }\n",
              "\n",
              "    .dataframe thead th {\n",
              "        text-align: right;\n",
              "    }\n",
              "</style>\n",
              "<table border=\"1\" class=\"dataframe\">\n",
              "  <thead>\n",
              "    <tr style=\"text-align: right;\">\n",
              "      <th></th>\n",
              "      <th>reviewTime</th>\n",
              "      <th>reviewText</th>\n",
              "      <th>helpful</th>\n",
              "      <th>reviewerID</th>\n",
              "      <th>reviewHash</th>\n",
              "      <th>categories</th>\n",
              "      <th>unixReviewTime</th>\n",
              "      <th>itemID</th>\n",
              "      <th>rating</th>\n",
              "      <th>summary</th>\n",
              "      <th>categoryID</th>\n",
              "    </tr>\n",
              "  </thead>\n",
              "  <tbody>\n",
              "    <tr>\n",
              "      <th>R798569390</th>\n",
              "      <td>09 26, 2013</td>\n",
              "      <td>The model in this picture has them rolled up a...</td>\n",
              "      <td>{'nHelpful': 0, 'outOf': 0}</td>\n",
              "      <td>U490934656</td>\n",
              "      <td>R798569390</td>\n",
              "      <td>[[Clothing, Shoes &amp; Jewelry, Women], [Clothing...</td>\n",
              "      <td>1380153600</td>\n",
              "      <td>I402344648</td>\n",
              "      <td>4</td>\n",
              "      <td>High Waisted</td>\n",
              "      <td>0</td>\n",
              "    </tr>\n",
              "    <tr>\n",
              "      <th>R436443063</th>\n",
              "      <td>02 7, 2013</td>\n",
              "      <td>I love the look of this bra, it is what I want...</td>\n",
              "      <td>{'nHelpful': 0, 'outOf': 0}</td>\n",
              "      <td>U714157797</td>\n",
              "      <td>R436443063</td>\n",
              "      <td>[[Clothing, Shoes &amp; Jewelry, Women, Clothing, ...</td>\n",
              "      <td>1360195200</td>\n",
              "      <td>I697650540</td>\n",
              "      <td>4</td>\n",
              "      <td>Beautiful but size runs small</td>\n",
              "      <td>0</td>\n",
              "    </tr>\n",
              "    <tr>\n",
              "      <th>R103439446</th>\n",
              "      <td>03 16, 2014</td>\n",
              "      <td>I am not comfortable with wearing my wedding b...</td>\n",
              "      <td>{'nHelpful': 0, 'outOf': 0}</td>\n",
              "      <td>U507366950</td>\n",
              "      <td>R103439446</td>\n",
              "      <td>[[Clothing, Shoes &amp; Jewelry, Wedding Party Gif...</td>\n",
              "      <td>1394928000</td>\n",
              "      <td>I464613034</td>\n",
              "      <td>5</td>\n",
              "      <td>Great Alternative for Nurses</td>\n",
              "      <td>0</td>\n",
              "    </tr>\n",
              "    <tr>\n",
              "      <th>R486351639</th>\n",
              "      <td>03 10, 2014</td>\n",
              "      <td>Like the look of this top and really looks cut...</td>\n",
              "      <td>{'nHelpful': 0, 'outOf': 0}</td>\n",
              "      <td>U307862152</td>\n",
              "      <td>R486351639</td>\n",
              "      <td>[[Clothing, Shoes &amp; Jewelry, Women, Clothing, ...</td>\n",
              "      <td>1394409600</td>\n",
              "      <td>I559560885</td>\n",
              "      <td>2</td>\n",
              "      <td>One size fits all...Questionable</td>\n",
              "      <td>0</td>\n",
              "    </tr>\n",
              "    <tr>\n",
              "      <th>R508664275</th>\n",
              "      <td>07 30, 2013</td>\n",
              "      <td>I'm quite small and the XS fits me like a regu...</td>\n",
              "      <td>{'nHelpful': 1, 'outOf': 1}</td>\n",
              "      <td>U742726598</td>\n",
              "      <td>R508664275</td>\n",
              "      <td>[[Clothing, Shoes &amp; Jewelry, Women, Plus-Size,...</td>\n",
              "      <td>1375142400</td>\n",
              "      <td>I476005312</td>\n",
              "      <td>5</td>\n",
              "      <td>Great shirt</td>\n",
              "      <td>0</td>\n",
              "    </tr>\n",
              "    <tr>\n",
              "      <th>...</th>\n",
              "      <td>...</td>\n",
              "      <td>...</td>\n",
              "      <td>...</td>\n",
              "      <td>...</td>\n",
              "      <td>...</td>\n",
              "      <td>...</td>\n",
              "      <td>...</td>\n",
              "      <td>...</td>\n",
              "      <td>...</td>\n",
              "      <td>...</td>\n",
              "      <td>...</td>\n",
              "    </tr>\n",
              "    <tr>\n",
              "      <th>R285432298</th>\n",
              "      <td>01 26, 2013</td>\n",
              "      <td>Looks just like the picture and the item arriv...</td>\n",
              "      <td>{'nHelpful': 0, 'outOf': 0}</td>\n",
              "      <td>U781794983</td>\n",
              "      <td>R285432298</td>\n",
              "      <td>[[Clothing, Shoes &amp; Jewelry, Women, Clothing, ...</td>\n",
              "      <td>1359158400</td>\n",
              "      <td>I245323432</td>\n",
              "      <td>5</td>\n",
              "      <td>Cute</td>\n",
              "      <td>0</td>\n",
              "    </tr>\n",
              "    <tr>\n",
              "      <th>R454986738</th>\n",
              "      <td>04 2, 2013</td>\n",
              "      <td>I'm a C cup and the C cup in this is way too s...</td>\n",
              "      <td>{'nHelpful': 1, 'outOf': 1}</td>\n",
              "      <td>U151975942</td>\n",
              "      <td>R454986738</td>\n",
              "      <td>[[Clothing, Shoes &amp; Jewelry, Women, Clothing, ...</td>\n",
              "      <td>1364860800</td>\n",
              "      <td>I990230316</td>\n",
              "      <td>1</td>\n",
              "      <td>Not true to Cup size.</td>\n",
              "      <td>0</td>\n",
              "    </tr>\n",
              "    <tr>\n",
              "      <th>R088851171</th>\n",
              "      <td>09 22, 2012</td>\n",
              "      <td>I have a pair of earrings just like this (only...</td>\n",
              "      <td>{'nHelpful': 0, 'outOf': 0}</td>\n",
              "      <td>U525354881</td>\n",
              "      <td>R088851171</td>\n",
              "      <td>[[Clothing, Shoes &amp; Jewelry, Jewelry: Internat...</td>\n",
              "      <td>1348272000</td>\n",
              "      <td>I037381245</td>\n",
              "      <td>4</td>\n",
              "      <td>Lovely, but small</td>\n",
              "      <td>0</td>\n",
              "    </tr>\n",
              "    <tr>\n",
              "      <th>R524991477</th>\n",
              "      <td>12 27, 2013</td>\n",
              "      <td>My granddaughter love the scarf and fit perfec...</td>\n",
              "      <td>{'nHelpful': 0, 'outOf': 1}</td>\n",
              "      <td>U995566285</td>\n",
              "      <td>R524991477</td>\n",
              "      <td>[[Clothing, Shoes &amp; Jewelry, Women, Accessorie...</td>\n",
              "      <td>1388102400</td>\n",
              "      <td>I343675670</td>\n",
              "      <td>5</td>\n",
              "      <td>Scarf</td>\n",
              "      <td>0</td>\n",
              "    </tr>\n",
              "    <tr>\n",
              "      <th>R695913313</th>\n",
              "      <td>03 1, 2014</td>\n",
              "      <td>My baby wore it only one time and there are ho...</td>\n",
              "      <td>{'nHelpful': 1, 'outOf': 2}</td>\n",
              "      <td>U994496485</td>\n",
              "      <td>R695913313</td>\n",
              "      <td>[[Clothing, Shoes &amp; Jewelry, Baby, Baby Girls,...</td>\n",
              "      <td>1393632000</td>\n",
              "      <td>I757871532</td>\n",
              "      <td>1</td>\n",
              "      <td>Very bad!</td>\n",
              "      <td>4</td>\n",
              "    </tr>\n",
              "  </tbody>\n",
              "</table>\n",
              "<p>200000 rows × 11 columns</p>\n",
              "</div>"
            ],
            "text/plain": [
              "             reviewTime  ... categoryID\n",
              "R798569390  09 26, 2013  ...          0\n",
              "R436443063   02 7, 2013  ...          0\n",
              "R103439446  03 16, 2014  ...          0\n",
              "R486351639  03 10, 2014  ...          0\n",
              "R508664275  07 30, 2013  ...          0\n",
              "...                 ...  ...        ...\n",
              "R285432298  01 26, 2013  ...          0\n",
              "R454986738   04 2, 2013  ...          0\n",
              "R088851171  09 22, 2012  ...          0\n",
              "R524991477  12 27, 2013  ...          0\n",
              "R695913313   03 1, 2014  ...          4\n",
              "\n",
              "[200000 rows x 11 columns]"
            ]
          },
          "metadata": {},
          "execution_count": 12
        }
      ]
    },
    {
      "cell_type": "code",
      "metadata": {
        "id": "nQHffRZixfDh"
      },
      "source": [
        ""
      ],
      "execution_count": null,
      "outputs": []
    }
  ]
}