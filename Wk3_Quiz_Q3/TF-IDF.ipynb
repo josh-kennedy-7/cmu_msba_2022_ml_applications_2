{
 "cells": [
  {
   "cell_type": "markdown",
   "id": "75a94574-11e8-401e-af69-5f84a907813f",
   "metadata": {},
   "source": [
    "# Approach\n",
    "\n",
    "1. Load datasets, change multiclass to binary class (positive or negative only), limit to text column\n",
    "2. Tokenize, stop words, stem\n",
    "3. TF-IDF\n",
    "4. Sentiment analysis"
   ]
  },
  {
   "cell_type": "code",
   "execution_count": 31,
   "id": "9fb09831-0d25-4f42-8734-4b3eaa0cf9ae",
   "metadata": {},
   "outputs": [],
   "source": [
    "import pandas as pd\n",
    "import torch\n",
    "from sklearn.feature_extraction.text import TfidfVectorizer"
   ]
  },
  {
   "cell_type": "code",
   "execution_count": 25,
   "id": "9519d44a-6b7d-453c-bd4e-690a93c1bdba",
   "metadata": {},
   "outputs": [],
   "source": [
    "def data_transformer(df):\n",
    "    df['Sentiment'] = df['Sentiment'].map({'Positive':'Positive', 'Extremely Positive':'Positive', \n",
    "                                           'Negative':'Negative', 'Extremely Negative':'Negative',\n",
    "                                           'Neutral':'Neutral'\n",
    "                                          })\n",
    "    df = df.drop(['UserName','ScreenName','Location','TweetAt'], axis=1)\n",
    "    return df"
   ]
  },
  {
   "cell_type": "code",
   "execution_count": 24,
   "id": "d6ab7a2c-574d-4770-9fd9-6da8460b273d",
   "metadata": {},
   "outputs": [],
   "source": [
    "df_train = pd.read_csv('./Data/Corona_NLP_train.csv')\n",
    "df_test = pd.read_csv('./Data/Corona_NLP_test.csv')"
   ]
  },
  {
   "cell_type": "code",
   "execution_count": 26,
   "id": "3031c1f3-ca1b-4380-b2ff-c87def222402",
   "metadata": {},
   "outputs": [],
   "source": [
    "df_train = data_transformer(df_train)\n",
    "df_test = data_transformer(df_test)"
   ]
  },
  {
   "cell_type": "code",
   "execution_count": 27,
   "id": "61f96811-eae5-4f39-9603-37fe9ced83d8",
   "metadata": {},
   "outputs": [
    {
     "data": {
      "text/html": [
       "<div>\n",
       "<style scoped>\n",
       "    .dataframe tbody tr th:only-of-type {\n",
       "        vertical-align: middle;\n",
       "    }\n",
       "\n",
       "    .dataframe tbody tr th {\n",
       "        vertical-align: top;\n",
       "    }\n",
       "\n",
       "    .dataframe thead th {\n",
       "        text-align: right;\n",
       "    }\n",
       "</style>\n",
       "<table border=\"1\" class=\"dataframe\">\n",
       "  <thead>\n",
       "    <tr style=\"text-align: right;\">\n",
       "      <th></th>\n",
       "      <th>OriginalTweet</th>\n",
       "      <th>Sentiment</th>\n",
       "    </tr>\n",
       "  </thead>\n",
       "  <tbody>\n",
       "    <tr>\n",
       "      <th>0</th>\n",
       "      <td>TRENDING: New Yorkers encounter empty supermar...</td>\n",
       "      <td>Negative</td>\n",
       "    </tr>\n",
       "    <tr>\n",
       "      <th>1</th>\n",
       "      <td>When I couldn't find hand sanitizer at Fred Me...</td>\n",
       "      <td>Positive</td>\n",
       "    </tr>\n",
       "    <tr>\n",
       "      <th>2</th>\n",
       "      <td>Find out how you can protect yourself and love...</td>\n",
       "      <td>Positive</td>\n",
       "    </tr>\n",
       "    <tr>\n",
       "      <th>3</th>\n",
       "      <td>#Panic buying hits #NewYork City as anxious sh...</td>\n",
       "      <td>Negative</td>\n",
       "    </tr>\n",
       "    <tr>\n",
       "      <th>4</th>\n",
       "      <td>#toiletpaper #dunnypaper #coronavirus #coronav...</td>\n",
       "      <td>Neutral</td>\n",
       "    </tr>\n",
       "    <tr>\n",
       "      <th>...</th>\n",
       "      <td>...</td>\n",
       "      <td>...</td>\n",
       "    </tr>\n",
       "    <tr>\n",
       "      <th>3793</th>\n",
       "      <td>Meanwhile In A Supermarket in Israel -- People...</td>\n",
       "      <td>Positive</td>\n",
       "    </tr>\n",
       "    <tr>\n",
       "      <th>3794</th>\n",
       "      <td>Did you panic buy a lot of non-perishable item...</td>\n",
       "      <td>Negative</td>\n",
       "    </tr>\n",
       "    <tr>\n",
       "      <th>3795</th>\n",
       "      <td>Asst Prof of Economics @cconces was on @NBCPhi...</td>\n",
       "      <td>Neutral</td>\n",
       "    </tr>\n",
       "    <tr>\n",
       "      <th>3796</th>\n",
       "      <td>Gov need to do somethings instead of biar je r...</td>\n",
       "      <td>Negative</td>\n",
       "    </tr>\n",
       "    <tr>\n",
       "      <th>3797</th>\n",
       "      <td>I and @ForestandPaper members are committed to...</td>\n",
       "      <td>Positive</td>\n",
       "    </tr>\n",
       "  </tbody>\n",
       "</table>\n",
       "<p>3798 rows × 2 columns</p>\n",
       "</div>"
      ],
      "text/plain": [
       "                                          OriginalTweet Sentiment\n",
       "0     TRENDING: New Yorkers encounter empty supermar...  Negative\n",
       "1     When I couldn't find hand sanitizer at Fred Me...  Positive\n",
       "2     Find out how you can protect yourself and love...  Positive\n",
       "3     #Panic buying hits #NewYork City as anxious sh...  Negative\n",
       "4     #toiletpaper #dunnypaper #coronavirus #coronav...   Neutral\n",
       "...                                                 ...       ...\n",
       "3793  Meanwhile In A Supermarket in Israel -- People...  Positive\n",
       "3794  Did you panic buy a lot of non-perishable item...  Negative\n",
       "3795  Asst Prof of Economics @cconces was on @NBCPhi...   Neutral\n",
       "3796  Gov need to do somethings instead of biar je r...  Negative\n",
       "3797  I and @ForestandPaper members are committed to...  Positive\n",
       "\n",
       "[3798 rows x 2 columns]"
      ]
     },
     "execution_count": 27,
     "metadata": {},
     "output_type": "execute_result"
    }
   ],
   "source": [
    "df_test"
   ]
  },
  {
   "cell_type": "markdown",
   "id": "faba8d43-4e78-463d-8213-b75c7fdd2593",
   "metadata": {},
   "source": [
    "# Sources:\n",
    "\n",
    "1. PyTorch TF-IDF:\n",
    "https://medium.com/swlh/text-classification-using-scikit-learn-pytorch-and-tensorflow-a3350808f9f7\n"
   ]
  },
  {
   "cell_type": "code",
   "execution_count": 32,
   "id": "9098e891-61de-41b3-ac9c-9f3d94d5a6d4",
   "metadata": {},
   "outputs": [
    {
     "data": {
      "text/plain": [
       "False"
      ]
     },
     "execution_count": 32,
     "metadata": {},
     "output_type": "execute_result"
    }
   ],
   "source": []
  },
  {
   "cell_type": "code",
   "execution_count": null,
   "id": "24824b93-6a9d-4d44-8d9a-b88006831df4",
   "metadata": {},
   "outputs": [],
   "source": []
  }
 ],
 "metadata": {
  "kernelspec": {
   "display_name": "Python 3 (ipykernel)",
   "language": "python",
   "name": "python3"
  },
  "language_info": {
   "codemirror_mode": {
    "name": "ipython",
    "version": 3
   },
   "file_extension": ".py",
   "mimetype": "text/x-python",
   "name": "python",
   "nbconvert_exporter": "python",
   "pygments_lexer": "ipython3",
   "version": "3.8.8"
  }
 },
 "nbformat": 4,
 "nbformat_minor": 5
}
