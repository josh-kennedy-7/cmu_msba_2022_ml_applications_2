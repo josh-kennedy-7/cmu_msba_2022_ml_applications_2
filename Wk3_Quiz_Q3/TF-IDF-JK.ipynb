{
 "cells": [
  {
   "cell_type": "markdown",
   "id": "75a94574-11e8-401e-af69-5f84a907813f",
   "metadata": {},
   "source": [
    "# Approach\n",
    "\n",
    "1. Load datasets, change multiclass to binary class (positive or negative only), limit to text column\n",
    "2. Sklearn pipeline: encode text (sentiment category and tweet), tf-idf\n",
    "3. Torch pipeline: MLP with sigmoid"
   ]
  },
  {
   "cell_type": "code",
   "execution_count": 24,
   "id": "9fb09831-0d25-4f42-8734-4b3eaa0cf9ae",
   "metadata": {},
   "outputs": [],
   "source": [
    "import pandas as pd\n",
    "import scipy\n",
    "import torch\n",
    "\n",
    "from torch import nn\n",
    "from sklearn.feature_extraction.text import TfidfVectorizer\n",
    "from sklearn.model_selection import train_test_split\n",
    "from sklearn.preprocessing import LabelEncoder\n",
    "\n",
    "from d2l import torch as d2l"
   ]
  },
  {
   "cell_type": "code",
   "execution_count": 25,
   "id": "55dd715f-542e-40ac-9a87-9740482eb9c1",
   "metadata": {},
   "outputs": [
    {
     "name": "stdout",
     "output_type": "stream",
     "text": [
      "cpu\n"
     ]
    }
   ],
   "source": [
    "device = torch.device(\"cuda:0\" if torch.cuda.is_available() else \"cpu\")\n",
    "print (device)"
   ]
  },
  {
   "cell_type": "code",
   "execution_count": 26,
   "id": "9519d44a-6b7d-453c-bd4e-690a93c1bdba",
   "metadata": {},
   "outputs": [],
   "source": [
    "def data_transformer(df):\n",
    "    '''\n",
    "    Change multiclass to binary class: positive or negative tweets only\n",
    "    Apply sklearn encoding on Sentiment column\n",
    "    \n",
    "    Param: Dataframe to transform\n",
    "    Returns: Transformed dataframe\n",
    "    '''\n",
    "    df['Sentiment'] = df['Sentiment'].map({'Positive':'Positive', 'Extremely Positive':'Positive', \n",
    "                                           'Negative':'Negative', 'Extremely Negative':'Negative',\n",
    "                                           'Neutral':'Positive'\n",
    "                                          })\n",
    "    df = df.drop(['UserName','ScreenName','Location','TweetAt'], axis=1)\n",
    "    \n",
    "    # Encode sentiment values\n",
    "    df_le = LabelEncoder().fit(df['Sentiment'])\n",
    "    df['encoded_sentiment'] = df_le.transform(df['Sentiment'])\n",
    "    \n",
    "    return df"
   ]
  },
  {
   "cell_type": "code",
   "execution_count": 27,
   "id": "d6ab7a2c-574d-4770-9fd9-6da8460b273d",
   "metadata": {},
   "outputs": [],
   "source": [
    "df_train = pd.read_csv('./Data/Corona_NLP_train.csv')\n",
    "df_test = pd.read_csv('./Data/Corona_NLP_test.csv')"
   ]
  },
  {
   "cell_type": "code",
   "execution_count": 28,
   "id": "3031c1f3-ca1b-4380-b2ff-c87def222402",
   "metadata": {},
   "outputs": [],
   "source": [
    "df_train = data_transformer(df_train)\n",
    "df_test = data_transformer(df_test)"
   ]
  },
  {
   "cell_type": "markdown",
   "id": "eb3a1af5-d676-403e-95fd-d552cc551ab6",
   "metadata": {},
   "source": [
    "### Sklearn pipeline"
   ]
  },
  {
   "cell_type": "code",
   "execution_count": 52,
   "id": "2565d518-eb2f-4d04-868a-1c143304ee8c",
   "metadata": {},
   "outputs": [],
   "source": [
    "x_train, x_test, y_train, y_test = df_train['OriginalTweet'], df_test['OriginalTweet'], df_train['encoded_sentiment'], df_test['encoded_sentiment']\n",
    "\n",
    "# Perform tf-idf on OriginalTweets\n",
    "\n",
    "tf_idf = TfidfVectorizer()\n",
    "x_train = tf_idf.fit_transform(x_train)\n",
    "x_test = tf_idf.transform(x_test)"
   ]
  },
  {
   "cell_type": "markdown",
   "id": "0b40ab35-57a1-40c6-9836-954c3a915566",
   "metadata": {},
   "source": [
    "### PyTorch pipeline"
   ]
  },
  {
   "cell_type": "code",
   "execution_count": 30,
   "id": "0585148d-e51f-4450-94e7-5fe4133302a4",
   "metadata": {},
   "outputs": [],
   "source": [
    "# batch_size = 64\n",
    "# vocab = d2l.load_data_imdb(batch_size)"
   ]
  },
  {
   "cell_type": "code",
   "execution_count": 31,
   "id": "bf8ff7d7-1ab9-4cf1-bedb-5c64974c8db2",
   "metadata": {},
   "outputs": [],
   "source": [
    "# vocab, len(vocab)"
   ]
  },
  {
   "cell_type": "code",
   "execution_count": 44,
   "id": "59882af6-b125-482b-8379-fedd97972db2",
   "metadata": {},
   "outputs": [],
   "source": [
    "# x_train = torch.tensor(scipy.sparse.csr_matrix.todense(x_train)).long()"
   ]
  },
  {
   "cell_type": "code",
   "execution_count": 53,
   "id": "ce8c790c-e5b5-4c5c-a4d4-01e68bd1c906",
   "metadata": {},
   "outputs": [],
   "source": [
    "x_train = torch.tensor(scipy.sparse.csr_matrix.todense(x_train)).long()\n",
    "x_test  = torch.tensor(scipy.sparse.csr_matrix.todense(x_test)).long()\n",
    "x_val = x_test\n",
    "\n",
    "y_train = torch.tensor(y_train.values).long()\n",
    "y_test = torch.tensor(y_test.values).long()\n",
    "y_val = y_test"
   ]
  },
  {
   "cell_type": "code",
   "execution_count": 54,
   "id": "e00605ef-3fc1-487f-8176-607cab6cf6a8",
   "metadata": {},
   "outputs": [],
   "source": [
    "class BiRNN(nn.Module):\n",
    "    def __init__(self, vocab_size, embed_size, num_hiddens, num_layers,\n",
    "                 **kwargs):\n",
    "        super(BiRNN, self).__init__(**kwargs)\n",
    "        self.embedding = nn.Embedding(vocab_size, embed_size)\n",
    "        # Set `bidirectional` to True to get a bidirectional RNN\n",
    "        self.encoder = nn.LSTM(embed_size, num_hiddens, num_layers=num_layers,\n",
    "                               bidirectional=True)\n",
    "        self.decoder = nn.Linear(4 * num_hiddens, 2)\n",
    "\n",
    "    def forward(self, inputs):\n",
    "        # The shape of `inputs` is (batch size, no. of time steps). Because\n",
    "        # LSTM requires its input's first dimension to be the temporal\n",
    "        # dimension, the input is transposed before obtaining token\n",
    "        # representations. The output shape is (no. of time steps, batch size,\n",
    "        # word vector dimension)\n",
    "        embeddings = self.embedding(inputs.T)\n",
    "        self.encoder.flatten_parameters()\n",
    "        # Returns hidden states of the last hidden layer at different time\n",
    "        # steps. The shape of `outputs` is (no. of time steps, batch size,\n",
    "        # 2 * no. of hidden units)\n",
    "        outputs, _ = self.encoder(embeddings)\n",
    "        # Concatenate the hidden states of the initial time step and final\n",
    "        # time step to use as the input of the fully connected layer. Its\n",
    "        # shape is (batch size, 4 * no. of hidden units)\n",
    "        encoding = torch.cat((outputs[0], outputs[-1]), dim=1)\n",
    "        # Concatenate the hidden states at the initial and final time steps as\n",
    "        # the input of the fully-connected layer. Its shape is (batch size,\n",
    "        # 4 * no. of hidden units)\n",
    "        outs = self.decoder(encoding)\n",
    "        return outs"
   ]
  },
  {
   "cell_type": "code",
   "execution_count": 11,
   "id": "fa32b5d0-ea0f-49dc-9f8b-145d0ec51a34",
   "metadata": {},
   "outputs": [],
   "source": [
    "# class LSTM1(nn.Module):\n",
    "#     def __init__(self, num_classes, input_size, hidden_size, num_layers, seq_length):\n",
    "#         super(LSTM1, self).__init__()\n",
    "#         self.num_classes = num_classes #number of classes\n",
    "#         self.num_layers = num_layers #number of layers\n",
    "#         self.input_size = input_size #input size\n",
    "#         self.hidden_size = hidden_size #hidden state\n",
    "#         self.seq_length = seq_length #sequence length\n",
    "\n",
    "#         self.lstm = nn.LSTM(input_size=input_size, hidden_size=hidden_size,\n",
    "#                           num_layers=num_layers, batch_first=True) #lstm\n",
    "#         self.fc_1 =  nn.Linear(hidden_size, 128) #fully connected 1\n",
    "#         self.fc = nn.Linear(128, num_classes) #fully connected last layer\n",
    "\n",
    "#         self.relu = nn.ReLU()\n",
    "    \n",
    "#     def forward(self,x):\n",
    "#         h_0 = Variable(torch.zeros(self.num_layers, x.size(0), self.hidden_size)) #hidden state\n",
    "#         c_0 = Variable(torch.zeros(self.num_layers, x.size(0), self.hidden_size)) #internal state\n",
    "#         # Propagate input through LSTM\n",
    "#         output, (hn, cn) = self.lstm(x, (h_0, c_0)) #lstm with input, hidden, and internal state\n",
    "#         hn = hn.view(-1, self.hidden_size) #reshaping the data for Dense layer next\n",
    "#         out = self.relu(hn)\n",
    "#         out = self.fc_1(out) #first Dense\n",
    "#         out = self.relu(out) #relu\n",
    "#         out = self.fc(out) #Final Output\n",
    "#         return out"
   ]
  },
  {
   "cell_type": "code",
   "execution_count": 40,
   "id": "075071c3-a04d-4c82-9f01-4f5f557fb466",
   "metadata": {},
   "outputs": [],
   "source": [
    "# class SentimentNet(nn.Module):\n",
    "#     def __init__(self, vocab_size, output_size, embedding_dim, hidden_dim, n_layers, drop_prob=0.5):\n",
    "#         super(SentimentNet, self).__init__()\n",
    "#         self.output_size = output_size\n",
    "#         self.n_layers = n_layers\n",
    "#         self.hidden_dim = hidden_dim\n",
    "        \n",
    "#         self.embedding = nn.Embedding(vocab_size, embedding_dim)\n",
    "#         self.lstm = nn.LSTM(embedding_dim, hidden_dim, n_layers, dropout=drop_prob, batch_first=True)\n",
    "#         self.dropout = nn.Dropout(drop_prob)\n",
    "#         self.fc = nn.Linear(hidden_dim, output_size)\n",
    "#         self.sigmoid = nn.Sigmoid()\n",
    "        \n",
    "#     def forward(self, x, hidden):\n",
    "#         batch_size = x.size(0)\n",
    "#         x = x.long()\n",
    "#         embeds = self.embedding(x)\n",
    "#         lstm_out, hidden = self.lstm(embeds, hidden)\n",
    "#         lstm_out = lstm_out.contiguous().view(-1, self.hidden_dim)\n",
    "        \n",
    "#         out = self.dropout(lstm_out)\n",
    "#         out = self.fc(out)\n",
    "#         out = self.sigmoid(out)\n",
    "        \n",
    "#         out = out.view(batch_size, -1)\n",
    "#         out = out[:,-1]\n",
    "#         return out, hidden\n",
    "    \n",
    "#     def init_hidden(self, batch_size):\n",
    "#         weight = next(self.parameters()).data\n",
    "#         hidden = (weight.new(self.n_layers, batch_size, self.hidden_dim).zero_().to(device),\n",
    "#                       weight.new(self.n_layers, batch_size, self.hidden_dim).zero_().to(device))\n",
    "#         return hidden"
   ]
  },
  {
   "cell_type": "code",
   "execution_count": 55,
   "id": "a20b4acd-86fd-41f7-abae-ca429e9f66ab",
   "metadata": {},
   "outputs": [],
   "source": [
    "vocab_size = len(tf_idf.vocabulary_) + 1\n",
    "output_size = 1\n",
    "embedding_dim = 400\n",
    "hidden_dim = 64\n",
    "n_layers = 2\n",
    "\n",
    "# model = SentimentNet(vocab_size, output_size, embedding_dim, hidden_dim, n_layers)\n",
    "# model.to(device)\n",
    "\n",
    "# lr=0.005\n",
    "# criterion = nn.BCELoss()\n",
    "# optimizer = torch.optim.Adam(model.parameters(), lr=lr)"
   ]
  },
  {
   "cell_type": "code",
   "execution_count": null,
   "id": "b71a715b-bdf4-4e40-b96f-fc2c1a7e264f",
   "metadata": {
    "tags": []
   },
   "outputs": [],
   "source": [
    "# model = nn.Sequential(nn.Linear(x_train.shape[1],64),\n",
    "#                       nn.ReLU(),\n",
    "#                       BiRNN(64, 100, 100, 2),\n",
    "#                       # LSTM1(1,5,2,1,x_train.shape[1])\n",
    "#                       nn.Dropout(0.1),\n",
    "#                       nn.Linear(64, 2), # There are 2 output classes = +ve & -ve\n",
    "#                       nn.Sigmoid())  #nn.LogSoftmax(dim=1)) # The tutorial website used logsoftmax for binary class\n",
    "\n",
    "# vocab_size, embed_size, num_hiddens, num_layers,\n",
    "model = BiRNN(vocab_size, embedding_dim, hidden_dim, n_layers)\n",
    "\n",
    "# Define the loss\n",
    "criterion = nn.CrossEntropyLoss() #NLLLoss() # The tutorial website used NLLLoss for binary class\n",
    "\n",
    "# Forward pass, get our logits\n",
    "output = model(x_train)\n",
    "\n",
    "# Calculate the loss with the logits and the labels\n",
    "loss = criterion(output, y_train)\n",
    "\n",
    "loss.backward()\n",
    "\n",
    "# Optimizers require the parameters to optimize and a learning rate\n",
    "optimizer = torch.optim.Adam(model.parameters(), lr=0.002)"
   ]
  },
  {
   "cell_type": "code",
   "execution_count": 21,
   "id": "ab2761d5-d4e2-4642-ae2a-4ad8d4b5d99d",
   "metadata": {},
   "outputs": [],
   "source": [
    "# from torch.utils.data import DataLoader\n",
    "# import numpy as np\n",
    "\n",
    "# batch_size = 400\n",
    "\n",
    "# train_loader = DataLoader((x_train, y_train), shuffle=True, batch_size=batch_size)\n",
    "# val_loader = DataLoader(x_val, shuffle=True, batch_size=batch_size)\n",
    "# test_loader = DataLoader(x_test, shuffle=True, batch_size=batch_size)"
   ]
  },
  {
   "cell_type": "code",
   "execution_count": 17,
   "id": "2c744de9-6324-4505-8d2f-7a21446e080b",
   "metadata": {},
   "outputs": [
    {
     "ename": "ValueError",
     "evalue": "too many values to unpack (expected 2)",
     "output_type": "error",
     "traceback": [
      "\u001b[0;31m---------------------------------------------------------------------------\u001b[0m",
      "\u001b[0;31mValueError\u001b[0m                                Traceback (most recent call last)",
      "\u001b[0;32m<ipython-input-17-4ca27e8c8360>\u001b[0m in \u001b[0;36m<module>\u001b[0;34m\u001b[0m\n\u001b[1;32m      9\u001b[0m     \u001b[0mh\u001b[0m \u001b[0;34m=\u001b[0m \u001b[0mmodel\u001b[0m\u001b[0;34m.\u001b[0m\u001b[0minit_hidden\u001b[0m\u001b[0;34m(\u001b[0m\u001b[0mbatch_size\u001b[0m\u001b[0;34m)\u001b[0m\u001b[0;34m\u001b[0m\u001b[0;34m\u001b[0m\u001b[0m\n\u001b[1;32m     10\u001b[0m \u001b[0;34m\u001b[0m\u001b[0m\n\u001b[0;32m---> 11\u001b[0;31m     \u001b[0;32mfor\u001b[0m \u001b[0minputs\u001b[0m\u001b[0;34m,\u001b[0m \u001b[0mlabels\u001b[0m \u001b[0;32min\u001b[0m \u001b[0mtrain_loader\u001b[0m\u001b[0;34m:\u001b[0m\u001b[0;34m\u001b[0m\u001b[0;34m\u001b[0m\u001b[0m\n\u001b[0m\u001b[1;32m     12\u001b[0m         \u001b[0mcounter\u001b[0m \u001b[0;34m+=\u001b[0m \u001b[0;36m1\u001b[0m\u001b[0;34m\u001b[0m\u001b[0;34m\u001b[0m\u001b[0m\n\u001b[1;32m     13\u001b[0m         \u001b[0mh\u001b[0m \u001b[0;34m=\u001b[0m \u001b[0mtuple\u001b[0m\u001b[0;34m(\u001b[0m\u001b[0;34m[\u001b[0m\u001b[0me\u001b[0m\u001b[0;34m.\u001b[0m\u001b[0mdata\u001b[0m \u001b[0;32mfor\u001b[0m \u001b[0me\u001b[0m \u001b[0;32min\u001b[0m \u001b[0mh\u001b[0m\u001b[0;34m]\u001b[0m\u001b[0;34m)\u001b[0m\u001b[0;34m\u001b[0m\u001b[0;34m\u001b[0m\u001b[0m\n",
      "\u001b[0;31mValueError\u001b[0m: too many values to unpack (expected 2)"
     ]
    }
   ],
   "source": [
    "# epochs = 2\n",
    "# counter = 0\n",
    "# print_every = 1000\n",
    "# clip = 5\n",
    "# valid_loss_min = np.Inf\n",
    "\n",
    "# model.train()\n",
    "# for i in range(epochs):\n",
    "#     h = model.init_hidden(batch_size)\n",
    "    \n",
    "#     for inputs, labels in train_loader:\n",
    "#         counter += 1\n",
    "#         h = tuple([e.data for e in h])\n",
    "#         inputs, labels = inputs.to(device), labels.to(device)\n",
    "#         model.zero_grad()\n",
    "#         output, h = model(inputs, h)\n",
    "#         loss = criterion(output.squeeze(), labels.float())\n",
    "#         loss.backward()\n",
    "#         nn.utils.clip_grad_norm_(model.parameters(), clip)\n",
    "#         optimizer.step()\n",
    "        \n",
    "#         if counter%print_every == 0:\n",
    "#             val_h = model.init_hidden(batch_size)\n",
    "#             val_losses = []\n",
    "#             model.eval()\n",
    "#             for inp, lab in val_loader:\n",
    "#                 val_h = tuple([each.data for each in val_h])\n",
    "#                 inp, lab = inp.to(device), lab.to(device)\n",
    "#                 out, val_h = model(inp, val_h)\n",
    "#                 val_loss = criterion(out.squeeze(), lab.float())\n",
    "#                 val_losses.append(val_loss.item())\n",
    "                \n",
    "#             model.train()\n",
    "#             print(\"Epoch: {}/{}...\".format(i+1, epochs),\n",
    "#                   \"Step: {}...\".format(counter),\n",
    "#                   \"Loss: {:.6f}...\".format(loss.item()),\n",
    "#                   \"Val Loss: {:.6f}\".format(np.mean(val_losses)))\n",
    "#             if np.mean(val_losses) <= valid_loss_min:\n",
    "#                 torch.save(model.state_dict(), './state_dict.pt')\n",
    "#                 print('Validation loss decreased ({:.6f} --> {:.6f}).  Saving model ...'.format(valid_loss_min,np.mean(val_losses)))\n",
    "#                 valid_loss_min = np.mean(val_losses)\n"
   ]
  },
  {
   "cell_type": "code",
   "execution_count": null,
   "id": "1f079ad4-c418-42fc-a76a-997acd85abb6",
   "metadata": {},
   "outputs": [],
   "source": [
    "# train_losses = []\n",
    "# test_losses = []\n",
    "# test_accuracies = []\n",
    "\n",
    "# epochs = 200\n",
    "\n",
    "# for e in range(epochs):\n",
    "#     optimizer.zero_grad()\n",
    "#     h = model.init_hidden(batch_size)\n",
    "\n",
    "#     output = model.forward(x_train, h)\n",
    "#     loss = criterion(output, y_train)\n",
    "#     loss.backward()\n",
    "#     train_loss = loss.item()\n",
    "#     train_losses.append(train_loss)\n",
    "    \n",
    "#     optimizer.step()\n",
    "\n",
    "#     with torch.no_grad():\n",
    "#         model.eval()\n",
    "#         log_ps = model(x_test)\n",
    "#         test_loss = criterion(log_ps, y_test)\n",
    "#         test_losses.append(test_loss)\n",
    "\n",
    "#         ps = torch.exp(log_ps)\n",
    "#         top_p, top_class = ps.topk(1, dim=1)\n",
    "#         equals = top_class == y_test.view(*top_class.shape)\n",
    "#         test_accuracy = torch.mean(equals.float())\n",
    "#         test_accuracies.append(test_accuracy)\n",
    "\n",
    "#     model.train()\n",
    "\n",
    "#     print(f\"Epoch: {e+1}/{epochs}.. \",\n",
    "#           f\"Training Loss: {train_loss:.3f}.. \",\n",
    "#           f\"Test Loss: {test_loss:.3f}.. \",\n",
    "#           f\"Test Accuracy: {test_accuracy:.3f}\")"
   ]
  },
  {
   "cell_type": "markdown",
   "id": "faba8d43-4e78-463d-8213-b75c7fdd2593",
   "metadata": {},
   "source": [
    "# Sources\n",
    "\n",
    "1. PyTorch TF-IDF:\n",
    "https://medium.com/swlh/text-classification-using-scikit-learn-pytorch-and-tensorflow-a3350808f9f7\n",
    "\n",
    "2. PyTorch loss function for binary class:\n",
    "https://discuss.pytorch.org/t/runtimeerror-expected-object-of-scalar-type-long-but-got-scalar-type-float-when-using-crossentropyloss/30542\n"
   ]
  }
 ],
 "metadata": {
  "kernelspec": {
   "display_name": "Python 3",
   "language": "python",
   "name": "python3"
  },
  "language_info": {
   "codemirror_mode": {
    "name": "ipython",
    "version": 3
   },
   "file_extension": ".py",
   "mimetype": "text/x-python",
   "name": "python",
   "nbconvert_exporter": "python",
   "pygments_lexer": "ipython3",
   "version": "3.8.8"
  }
 },
 "nbformat": 4,
 "nbformat_minor": 5
}
