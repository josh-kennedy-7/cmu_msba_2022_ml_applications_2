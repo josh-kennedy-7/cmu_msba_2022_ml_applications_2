{
 "cells": [
  {
   "cell_type": "code",
   "execution_count": 1,
   "id": "1f43bc7c-5a74-48b5-a3e7-e76263ee05d3",
   "metadata": {},
   "outputs": [],
   "source": [
    "%matplotlib inline\n",
    "import random\n",
    "import torch\n",
    "from d2l import torch as d2l\n",
    "\n",
    "import numpy as np\n",
    "import pandas as pd\n",
    "\n",
    "import os"
   ]
  },
  {
   "cell_type": "code",
   "execution_count": 2,
   "id": "3f32ca1e-dca2-4d54-bb61-a87f51c65174",
   "metadata": {},
   "outputs": [],
   "source": [
    "def read_data_books():\n",
    "    data_dir = \"M:\\\\git\\\\ML2_2021\\\\data\"\n",
    "    names = ['user_id', 'isbn', 'rating']\n",
    "    data = pd.read_csv(os.path.join(data_dir, 'book_ratings.csv'), ',', names=names,\n",
    "                       engine='python', skiprows=1)\n",
    "\n",
    "    data['isbn'] = data.isbn.astype('category')\n",
    "    data['book_id'] = data['isbn'].cat.codes\n",
    "\n",
    "    data['user_id'], _ = pd.factorize(data['user_id'])\n",
    "    data['book_id'], _ = pd.factorize(data['book_id'])\n",
    "\n",
    "    data.user_id = data.user_id\n",
    "    data.book_id = data.book_id\n",
    "    \n",
    "    data.drop('isbn',axis=1,inplace=True)\n",
    "    data = data[['user_id','book_id','rating']]\n",
    "    \n",
    "    data['rating'] = data['rating'].astype(float)\n",
    "\n",
    "    num_users = data.user_id.unique().shape[0]\n",
    "    num_items = data.book_id.unique().shape[0]\n",
    "    return data, num_users, num_items"
   ]
  },
  {
   "cell_type": "code",
   "execution_count": 3,
   "id": "9fe48d9d-8cc2-46e0-b8f0-1230dcc68487",
   "metadata": {},
   "outputs": [
    {
     "name": "stderr",
     "output_type": "stream",
     "text": [
      "C:\\Users\\ARICK_~1\\AppData\\Local\\Temp/ipykernel_133676/2596294887.py:1: FutureWarning: In a future version of pandas all arguments of read_csv except for the argument 'filepath_or_buffer' will be keyword-only\n",
      "  data,nu,ni=read_data_books()\n"
     ]
    }
   ],
   "source": [
    "data,nu,ni=read_data_books()"
   ]
  },
  {
   "cell_type": "code",
   "execution_count": 4,
   "id": "65002926-a85b-44bf-a648-2800c7aa9fd1",
   "metadata": {},
   "outputs": [],
   "source": [
    "# replace this with your data loader\n",
    "\n",
    "def tensor_data(data, n_user, n_item):  #@save\n",
    "    users = torch.tensor(data['user_id'],dtype=torch.long)\n",
    "    books = torch.tensor(data['book_id'],dtype=torch.long)\n",
    "    rting = torch.tensor(data['rating'],dtype=torch.float32)                              \n",
    "\n",
    "    X = torch.cat((users.reshape((-1,1)), books.reshape((-1,1))), 1)\n",
    "    y = rting.reshape((-1,1))\n",
    "    return X, y\n",
    "\n",
    "features, labels = tensor_data(data,nu,ni)"
   ]
  },
  {
   "cell_type": "code",
   "execution_count": 5,
   "id": "d98975b7-f9dd-491a-b4d7-831e659c1b89",
   "metadata": {},
   "outputs": [],
   "source": [
    "_,f_train,f_test=torch.tensor_split(features,(0,round(len(features)*0.8)))\n",
    "_,l_train,l_test=torch.tensor_split(labels,(0,round(len(features)*0.8)))"
   ]
  },
  {
   "cell_type": "code",
   "execution_count": 6,
   "id": "be0f8872-7abf-42c3-9a62-7f682eeb3733",
   "metadata": {},
   "outputs": [],
   "source": [
    "def data_iter(batch_size, features, labels):\n",
    "    num_examples = len(features)\n",
    "    indices = list(range(num_examples))\n",
    "    # The examples are read at random, in no particular order\n",
    "    # random.shuffle(indices)\n",
    "    for i in range(0, num_examples, batch_size):\n",
    "        batch_indices = torch.tensor(indices[i:min(i +\n",
    "                                                   batch_size, num_examples)])\n",
    "        yield features[batch_indices], labels[batch_indices]"
   ]
  },
  {
   "cell_type": "code",
   "execution_count": 7,
   "id": "ce26f335-3057-44be-baad-a83e26bdf6e6",
   "metadata": {},
   "outputs": [],
   "source": [
    "# replace this with the recsys model\n",
    "def alfa_only(X, alfa):  #@save\n",
    "    \"\"\"The linear regression model.\"\"\"\n",
    "    return alfa.repeat(len(X)).reshape(X[:,0].shape)\n",
    "\n",
    "# replace this with the recsys model\n",
    "def alfa_user(X, alfa, beta_u):  #@save\n",
    "    \"\"\"The linear regression model.\"\"\"\n",
    "    return alfa + beta_u[X[:,0]]\n",
    "\n",
    "# replace this with the recsys model\n",
    "def alfa_item(X, alfa, beta_i):  #@save\n",
    "    \"\"\"The linear regression model.\"\"\"\n",
    "    return alfa + beta_i[X[:,1]]\n",
    "\n",
    "# replace this with the recsys model\n",
    "def whole_nine_yards(X, alfa, beta_u, beta_i):  #@save\n",
    "    \"\"\"The linear regression model.\"\"\"\n",
    "    return alfa + beta_u[X[:,0]] + beta_i[X[:,1]]"
   ]
  },
  {
   "cell_type": "code",
   "execution_count": 8,
   "id": "aebb1db1-6e45-4428-b9fc-ee945cf95d6b",
   "metadata": {},
   "outputs": [],
   "source": [
    "def squared_loss(y_hat, y):  #@save\n",
    "    \"\"\"Squared loss.\"\"\"\n",
    "    return (y_hat - y.reshape(y_hat.shape))**2 / 2"
   ]
  },
  {
   "cell_type": "code",
   "execution_count": 9,
   "id": "be5be925-079d-4dc0-8589-7e355f85548a",
   "metadata": {},
   "outputs": [],
   "source": [
    "def sgd(params, lr, batch_size):  #@save\n",
    "    \"\"\"Minibatch stochastic gradient descent.\"\"\"\n",
    "    with torch.no_grad():\n",
    "        for param in params:\n",
    "            param -= lr * param.grad / batch_size\n",
    "            param.grad.zero_()"
   ]
  },
  {
   "cell_type": "code",
   "execution_count": 10,
   "id": "73a3c6b2-b403-49e3-866a-65b1a1dc5aab",
   "metadata": {},
   "outputs": [
    {
     "name": "stdout",
     "output_type": "stream",
     "text": [
      "epoch 2000, RMSE train: 1.298608, RMSE test: 1.326094\r"
     ]
    }
   ],
   "source": [
    "# driver code\n",
    "alfa = torch.zeros(1, requires_grad=True)\n",
    "#beta_u = torch.normal(0, 0.01, size=(nu, 1), requires_grad=True)\n",
    "#beta_i = torch.normal(0, 0.01, size=(ni, 1), requires_grad=True)\n",
    "\n",
    "batch_size = 262144\n",
    "\n",
    "lr = 2.5\n",
    "num_epochs = 2000\n",
    "net = alfa_only\n",
    "loss = squared_loss\n",
    "\n",
    "for epoch in range(num_epochs):\n",
    "    for X, y in data_iter(batch_size, f_train, l_train):\n",
    "        l = loss(net(X, alfa), y)  # Minibatch loss in `X` and `y`\n",
    "        # Compute gradient on `l` with respect to [`w`, `b`]\n",
    "        l.sum().backward()\n",
    "        sgd([alfa], lr, batch_size)  # Update parameters using their gradient\n",
    "    with torch.no_grad():\n",
    "        train_loss = loss(net(f_train, alfa), l_train)\n",
    "        test_loss = loss(net(f_test, alfa), l_test)\n",
    "        print(f'epoch {epoch + 1}, RMSE train: {float(train_loss.mean())**(1/2):f}, RMSE test: {float(test_loss.mean())**(1/2):f}', end = \"\\r\")"
   ]
  },
  {
   "cell_type": "code",
   "execution_count": 11,
   "id": "0aa316f6-0f37-448c-abda-f7d9325aab88",
   "metadata": {},
   "outputs": [
    {
     "name": "stdout",
     "output_type": "stream",
     "text": [
      "epoch 2000, RMSE train: 1.171791, RMSE test: 1.327949\r"
     ]
    }
   ],
   "source": [
    "# driver code\n",
    "alfa = torch.zeros(1, requires_grad=True)\n",
    "beta_u = torch.normal(0, 0.01, size=(nu, 1), requires_grad=True)\n",
    "# beta_i = torch.normal(0, 0.01, size=(ni, 1), requires_grad=True)\n",
    "\n",
    "batch_size = 262144\n",
    "\n",
    "lr = 2.5\n",
    "num_epochs = 2000\n",
    "net = alfa_user\n",
    "loss = squared_loss\n",
    "\n",
    "for epoch in range(num_epochs):\n",
    "    for X, y in data_iter(batch_size, f_train, l_train):\n",
    "        l = loss(net(X, alfa, beta_u), y)  # Minibatch loss in `X` and `y`\n",
    "        # Compute gradient on `l` with respect to [`w`, `b`]\n",
    "        l.sum().backward()\n",
    "        sgd([alfa, beta_u], lr, batch_size)  # Update parameters using their gradient\n",
    "    with torch.no_grad():\n",
    "        train_loss = loss(net(f_train, alfa, beta_u), l_train)\n",
    "        test_loss = loss(net(f_test, alfa, beta_u), l_test)\n",
    "        print(f'epoch {epoch + 1}, RMSE train: {float(train_loss.mean())**(1/2):f}, RMSE test: {float(test_loss.mean())**(1/2):f}', end = \"\\r\")"
   ]
  },
  {
   "cell_type": "code",
   "execution_count": 12,
   "id": "90592f91-5dd3-418c-b1d4-e2363b07d989",
   "metadata": {},
   "outputs": [
    {
     "name": "stdout",
     "output_type": "stream",
     "text": [
      "epoch 2000, RMSE train: 1.261978, RMSE test: 1.308256\r"
     ]
    }
   ],
   "source": [
    "# driver code\n",
    "alfa = torch.zeros(1, requires_grad=True)\n",
    "# beta_u = torch.normal(0, 0.01, size=(nu, 1), requires_grad=True)\n",
    "beta_i = torch.normal(0, 0.01, size=(ni, 1), requires_grad=True)\n",
    "\n",
    "batch_size = 262144\n",
    "\n",
    "lr = 2.5\n",
    "num_epochs = 2000\n",
    "net = alfa_item\n",
    "loss = squared_loss\n",
    "\n",
    "for epoch in range(num_epochs):\n",
    "    for X, y in data_iter(batch_size, f_train, l_train):\n",
    "        l = loss(net(X, alfa, beta_i), y)  # Minibatch loss in `X` and `y`\n",
    "        # Compute gradient on `l` with respect to [`w`, `b`]\n",
    "        l.sum().backward()\n",
    "        sgd([alfa, beta_i], lr, batch_size)  # Update parameters using their gradient\n",
    "    with torch.no_grad():\n",
    "        train_loss = loss(net(f_train, alfa, beta_i), l_train)\n",
    "        test_loss = loss(net(f_test, alfa, beta_i), l_test)\n",
    "        print(f'epoch {epoch + 1}, RMSE train: {float(train_loss.mean())**(1/2):f}, RMSE test: {float(test_loss.mean())**(1/2):f}', end = \"\\r\")"
   ]
  },
  {
   "cell_type": "code",
   "execution_count": 13,
   "id": "ed7f26cb-2b76-4c8d-b973-061619e3c75f",
   "metadata": {},
   "outputs": [
    {
     "name": "stdout",
     "output_type": "stream",
     "text": [
      "epoch 2000, RMSE train: 1.137080, RMSE test: 1.310418\r"
     ]
    }
   ],
   "source": [
    "# driver code\n",
    "alfa = torch.zeros(1, requires_grad=True)\n",
    "beta_u = torch.normal(0, 0.01, size=(nu, 1), requires_grad=True)\n",
    "beta_i = torch.normal(0, 0.01, size=(ni, 1), requires_grad=True)\n",
    "\n",
    "batch_size = 262144\n",
    "\n",
    "lr = 2.5\n",
    "num_epochs = 2000\n",
    "net = whole_nine_yards\n",
    "loss = squared_loss\n",
    "\n",
    "for epoch in range(num_epochs):\n",
    "    for X, y in data_iter(batch_size, f_train, l_train):\n",
    "        l = loss(net(X, alfa, beta_u, beta_i), y)  # Minibatch loss in `X` and `y`\n",
    "        # Compute gradient on `l` with respect to [`w`, `b`]\n",
    "        l.sum().backward()\n",
    "        sgd([alfa, beta_u, beta_i], lr, batch_size)  # Update parameters using their gradient\n",
    "    with torch.no_grad():\n",
    "        train_loss = loss(net(f_train, alfa, beta_u, beta_i), l_train)\n",
    "        test_loss = loss(net(f_test, alfa, beta_u, beta_i), l_test)\n",
    "        print(f'epoch {epoch + 1}, RMSE train: {float(train_loss.mean())**(1/2):f}, RMSE test: {float(test_loss.mean())**(1/2):f}', end = \"\\r\")"
   ]
  },
  {
   "cell_type": "code",
   "execution_count": null,
   "id": "dd5258db-5d84-40da-8680-c5340326ea44",
   "metadata": {},
   "outputs": [],
   "source": []
  }
 ],
 "metadata": {
  "kernelspec": {
   "display_name": "Python 3 (ipykernel)",
   "language": "python",
   "name": "python3"
  },
  "language_info": {
   "codemirror_mode": {
    "name": "ipython",
    "version": 3
   },
   "file_extension": ".py",
   "mimetype": "text/x-python",
   "name": "python",
   "nbconvert_exporter": "python",
   "pygments_lexer": "ipython3",
   "version": "3.8.12"
  }
 },
 "nbformat": 4,
 "nbformat_minor": 5
}
