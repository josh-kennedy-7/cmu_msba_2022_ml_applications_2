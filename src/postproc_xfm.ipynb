{
 "cells": [
  {
   "cell_type": "code",
   "execution_count": 1,
   "metadata": {},
   "outputs": [],
   "source": [
    "import torch\n",
    "from torch.utils.data import DataLoader\n",
    "\n",
    "\n",
    "from data_mgmt import RecSysData as rsd\n",
    "from data_mgmt.RecSysDataTest import TestRecSysData\n",
    "from models.ExtremeDeepFactorioMachine import ExtremeDeepFactorizationMachineModel as XFM\n",
    "\n",
    "# default imports because meh\n",
    "import numpy as np\n",
    "import pandas as pd\n",
    "import seaborn as sns\n",
    "import os\n",
    "from copy import deepcopy"
   ]
  },
  {
   "cell_type": "code",
   "execution_count": 2,
   "metadata": {},
   "outputs": [],
   "source": [
    "# # # # # # # # # # # # # # # #\n",
    "# INPUTS TO POST PROCESSING!  #\n",
    "# # # # # # # # # # # # # # # #\n",
    "ppath   =   os.path.abspath('../data/')\n",
    "MODEL   =   \"moar_pain692\"+\".pkl\"\n",
    "PATH    =   os.path.join(os.path.abspath('models/saved/'),MODEL)\n",
    "OUTPATH =   os.path.abspath(\"../output/\")\n",
    "\n",
    "test_data_file      = os.path.join(ppath,\"pairs_Rating.txt\")\n",
    "RESULTS_FILE_NAME   = os.path.join(OUTPATH,\"moar_pain692.txt\")"
   ]
  },
  {
   "cell_type": "code",
   "execution_count": 3,
   "metadata": {},
   "outputs": [],
   "source": [
    "def recSysPreprocessing(df_data):\n",
    "    df_data['uid'], _ = pd.factorize(df_data['reviewerID'])\n",
    "    df_data['pid'], _ = pd.factorize(df_data['itemID'])\n",
    "    df_data['cid'], _ = pd.factorize(df_data['categoryID'])\n",
    "\n",
    "    df_data = df_data[['reviewHash', 'reviewerID',\n",
    "                        'unixReviewTime', 'itemID','categoryID',\n",
    "                        'rating', 'uid','pid','cid']]\n",
    "\n",
    "    return df_data\n",
    "\n",
    "def recSysXfrm(in_row):\n",
    "    return torch.tensor([in_row.uid,in_row.pid,in_row.cid],dtype=torch.int)\n"
   ]
  },
  {
   "cell_type": "code",
   "execution_count": 6,
   "metadata": {},
   "outputs": [],
   "source": [
    "def beatTheCrapOutOfThisData(dfin, dfout):\n",
    "    \"\"\"\n",
    "    will return a dataframe that has correlated the reviewer and item\n",
    "    ID's within the test data set versus ones we recognize from the\n",
    "    training data set.\n",
    "    \"\"\"\n",
    "    dfout.columns = ['reviewerID','itemID']\n",
    "\n",
    "    uid_pairs = dfin.set_index('reviewerID').loc[\n",
    "                    dfout.query('reviewerID in @dfin.reviewerID').reviewerID].loc[\n",
    "                        dfout.query('reviewerID in @dfin.reviewerID').reviewerID].\\\n",
    "                            uid.drop_duplicates().copy()\n",
    "\n",
    "    pid_cid_pairs = dfin.set_index('itemID').loc[\n",
    "                    dfout.query('itemID in @dfin.itemID').itemID].loc[\n",
    "                        dfout.query('itemID in @dfin.itemID').itemID][['pid','cid']].\\\n",
    "                            drop_duplicates(subset=['pid']).copy()\n",
    "\n",
    "    dfout=dfout.join(uid_pairs,how='left',on='reviewerID')\n",
    "    dfout=dfout.join(pid_cid_pairs,how='left',on='itemID')\n",
    "\n",
    "    dfout.uid=dfout.uid.fillna(method='backfill') # kind of a hack for now\n",
    "    dfout.pid=dfout.pid.fillna(method='backfill')\n",
    "    dfout.cid=dfout.cid.fillna(method='backfill')\n",
    "\n",
    "    return dfout"
   ]
  },
  {
   "cell_type": "code",
   "execution_count": 7,
   "metadata": {},
   "outputs": [
    {
     "data": {
      "text/plain": [
       "ExtremeDeepFactorizationMachineModel(\n",
       "  (embedding): FeaturesEmbedding(\n",
       "    (embedding): Embedding(59158, 64)\n",
       "  )\n",
       "  (cin): CompressedInteractionNetwork(\n",
       "    (conv_layers): ModuleList(\n",
       "      (0): Conv1d(9, 64, kernel_size=(1,), stride=(1,))\n",
       "      (1): Conv1d(192, 64, kernel_size=(1,), stride=(1,))\n",
       "    )\n",
       "    (fc): Linear(in_features=128, out_features=1, bias=True)\n",
       "  )\n",
       "  (mlp): MultiLayerPerceptron(\n",
       "    (mlp): Sequential(\n",
       "      (0): Linear(in_features=192, out_features=32, bias=True)\n",
       "      (1): BatchNorm1d(32, eps=1e-05, momentum=0.1, affine=True, track_running_stats=True)\n",
       "      (2): ReLU()\n",
       "      (3): Dropout(p=0.2, inplace=False)\n",
       "      (4): Linear(in_features=32, out_features=32, bias=True)\n",
       "      (5): BatchNorm1d(32, eps=1e-05, momentum=0.1, affine=True, track_running_stats=True)\n",
       "      (6): ReLU()\n",
       "      (7): Dropout(p=0.2, inplace=False)\n",
       "      (8): Linear(in_features=32, out_features=32, bias=True)\n",
       "      (9): BatchNorm1d(32, eps=1e-05, momentum=0.1, affine=True, track_running_stats=True)\n",
       "      (10): ReLU()\n",
       "      (11): Dropout(p=0.2, inplace=False)\n",
       "      (12): Linear(in_features=32, out_features=32, bias=True)\n",
       "      (13): BatchNorm1d(32, eps=1e-05, momentum=0.1, affine=True, track_running_stats=True)\n",
       "      (14): ReLU()\n",
       "      (15): Dropout(p=0.2, inplace=False)\n",
       "      (16): Linear(in_features=32, out_features=32, bias=True)\n",
       "      (17): BatchNorm1d(32, eps=1e-05, momentum=0.1, affine=True, track_running_stats=True)\n",
       "      (18): ReLU()\n",
       "      (19): Dropout(p=0.2, inplace=False)\n",
       "      (20): Linear(in_features=32, out_features=32, bias=True)\n",
       "      (21): BatchNorm1d(32, eps=1e-05, momentum=0.1, affine=True, track_running_stats=True)\n",
       "      (22): ReLU()\n",
       "      (23): Dropout(p=0.2, inplace=False)\n",
       "      (24): Linear(in_features=32, out_features=32, bias=True)\n",
       "      (25): BatchNorm1d(32, eps=1e-05, momentum=0.1, affine=True, track_running_stats=True)\n",
       "      (26): ReLU()\n",
       "      (27): Dropout(p=0.2, inplace=False)\n",
       "      (28): Linear(in_features=32, out_features=1, bias=True)\n",
       "    )\n",
       "  )\n",
       "  (linear): FeaturesLinear(\n",
       "    (fc): Embedding(59158, 1)\n",
       "  )\n",
       ")"
      ]
     },
     "execution_count": 7,
     "metadata": {},
     "output_type": "execute_result"
    }
   ],
   "source": [
    "ds_train = rsd.RecSysData(ppath, preprocess=recSysPreprocessing, transform=recSysXfrm)\n",
    "n_user = ds_train.df_data.copy().uid.unique().shape[0]\n",
    "n_item = ds_train.df_data.copy().pid.unique().shape[0]\n",
    "n_cats = ds_train.df_data.copy().cid.unique().shape[0]\n",
    "\n",
    "\n",
    "ds_test  = TestRecSysData(ds_train.df_data,\n",
    "                        target_file=test_data_file,\n",
    "                        correlation_function=beatTheCrapOutOfThisData,\n",
    "                        transform=ds_train.transform)\n",
    "\n",
    "\n",
    "tdl = DataLoader(ds_train, batch_size=64, shuffle=False)\n",
    "tst = DataLoader(ds_test, batch_size=64, shuffle=False)\n",
    "\n",
    "\n",
    "model_dims = np.array([n_user,n_item,n_cats])\n",
    "\n",
    "\n",
    "model = XFM(field_dims = model_dims,\n",
    "            embed_dim = 64,\n",
    "            mlp_dims  = (32, 32, 32, 32, 32, 32, 32),\n",
    "            dropout = 0.2,\n",
    "            cross_layer_sizes = (64, 64),\n",
    "            split_half=False)\n",
    "\n",
    "\n",
    "\n",
    "model.load_state_dict(torch.load(PATH))\n",
    "model.eval()"
   ]
  },
  {
   "cell_type": "code",
   "execution_count": 8,
   "metadata": {},
   "outputs": [
    {
     "data": {
      "text/html": [
       "<div>\n",
       "<style scoped>\n",
       "    .dataframe tbody tr th:only-of-type {\n",
       "        vertical-align: middle;\n",
       "    }\n",
       "\n",
       "    .dataframe tbody tr th {\n",
       "        vertical-align: top;\n",
       "    }\n",
       "\n",
       "    .dataframe thead th {\n",
       "        text-align: right;\n",
       "    }\n",
       "</style>\n",
       "<table border=\"1\" class=\"dataframe\">\n",
       "  <thead>\n",
       "    <tr style=\"text-align: right;\">\n",
       "      <th></th>\n",
       "      <th>reviewerID</th>\n",
       "      <th>itemID</th>\n",
       "      <th>uid</th>\n",
       "      <th>pid</th>\n",
       "      <th>cid</th>\n",
       "    </tr>\n",
       "  </thead>\n",
       "  <tbody>\n",
       "    <tr>\n",
       "      <th>0</th>\n",
       "      <td>U566642233</td>\n",
       "      <td>I937291762</td>\n",
       "      <td>17371.0</td>\n",
       "      <td>16702.0</td>\n",
       "      <td>1.0</td>\n",
       "    </tr>\n",
       "    <tr>\n",
       "      <th>1</th>\n",
       "      <td>U150556394</td>\n",
       "      <td>I033937358</td>\n",
       "      <td>38819.0</td>\n",
       "      <td>1002.0</td>\n",
       "      <td>0.0</td>\n",
       "    </tr>\n",
       "    <tr>\n",
       "      <th>2</th>\n",
       "      <td>U835748092</td>\n",
       "      <td>I634015598</td>\n",
       "      <td>38805.0</td>\n",
       "      <td>16873.0</td>\n",
       "      <td>3.0</td>\n",
       "    </tr>\n",
       "    <tr>\n",
       "      <th>3</th>\n",
       "      <td>U636069453</td>\n",
       "      <td>I432257131</td>\n",
       "      <td>2986.0</td>\n",
       "      <td>11220.0</td>\n",
       "      <td>0.0</td>\n",
       "    </tr>\n",
       "    <tr>\n",
       "      <th>4</th>\n",
       "      <td>U336431363</td>\n",
       "      <td>I745492929</td>\n",
       "      <td>29830.0</td>\n",
       "      <td>17900.0</td>\n",
       "      <td>0.0</td>\n",
       "    </tr>\n",
       "    <tr>\n",
       "      <th>...</th>\n",
       "      <td>...</td>\n",
       "      <td>...</td>\n",
       "      <td>...</td>\n",
       "      <td>...</td>\n",
       "      <td>...</td>\n",
       "    </tr>\n",
       "    <tr>\n",
       "      <th>13995</th>\n",
       "      <td>U859380606</td>\n",
       "      <td>I927637487</td>\n",
       "      <td>16453.0</td>\n",
       "      <td>5418.0</td>\n",
       "      <td>3.0</td>\n",
       "    </tr>\n",
       "    <tr>\n",
       "      <th>13996</th>\n",
       "      <td>U154721087</td>\n",
       "      <td>I022684654</td>\n",
       "      <td>25479.0</td>\n",
       "      <td>2019.0</td>\n",
       "      <td>3.0</td>\n",
       "    </tr>\n",
       "    <tr>\n",
       "      <th>13997</th>\n",
       "      <td>U603183833</td>\n",
       "      <td>I813224083</td>\n",
       "      <td>6322.0</td>\n",
       "      <td>1502.0</td>\n",
       "      <td>3.0</td>\n",
       "    </tr>\n",
       "    <tr>\n",
       "      <th>13998</th>\n",
       "      <td>U901473480</td>\n",
       "      <td>I085879999</td>\n",
       "      <td>30043.0</td>\n",
       "      <td>18945.0</td>\n",
       "      <td>0.0</td>\n",
       "    </tr>\n",
       "    <tr>\n",
       "      <th>13999</th>\n",
       "      <td>U566986230</td>\n",
       "      <td>I211388731</td>\n",
       "      <td>32812.0</td>\n",
       "      <td>948.0</td>\n",
       "      <td>0.0</td>\n",
       "    </tr>\n",
       "  </tbody>\n",
       "</table>\n",
       "<p>14000 rows × 5 columns</p>\n",
       "</div>"
      ],
      "text/plain": [
       "       reviewerID      itemID      uid      pid  cid\n",
       "0      U566642233  I937291762  17371.0  16702.0  1.0\n",
       "1      U150556394  I033937358  38819.0   1002.0  0.0\n",
       "2      U835748092  I634015598  38805.0  16873.0  3.0\n",
       "3      U636069453  I432257131   2986.0  11220.0  0.0\n",
       "4      U336431363  I745492929  29830.0  17900.0  0.0\n",
       "...           ...         ...      ...      ...  ...\n",
       "13995  U859380606  I927637487  16453.0   5418.0  3.0\n",
       "13996  U154721087  I022684654  25479.0   2019.0  3.0\n",
       "13997  U603183833  I813224083   6322.0   1502.0  3.0\n",
       "13998  U901473480  I085879999  30043.0  18945.0  0.0\n",
       "13999  U566986230  I211388731  32812.0    948.0  0.0\n",
       "\n",
       "[14000 rows x 5 columns]"
      ]
     },
     "execution_count": 8,
     "metadata": {},
     "output_type": "execute_result"
    }
   ],
   "source": [
    "tst.dataset.df_data"
   ]
  },
  {
   "cell_type": "code",
   "execution_count": null,
   "metadata": {},
   "outputs": [],
   "source": [
    "model"
   ]
  },
  {
   "cell_type": "code",
   "execution_count": 9,
   "metadata": {},
   "outputs": [],
   "source": [
    "def test_loop(dataloader, model):\n",
    "    size = len(dataloader.dataset)\n",
    "    num_batches = len(dataloader)\n",
    "    loss = torch.zeros(1)\n",
    "    predictions = torch.Tensor([])\n",
    "\n",
    "    with torch.no_grad():\n",
    "        for X in dataloader:\n",
    "            pred = model(X.type(torch.long)).flatten()\n",
    "            predictions = torch.cat((predictions,pred),axis=-1)\n",
    "\n",
    "    return predictions"
   ]
  },
  {
   "cell_type": "code",
   "execution_count": 10,
   "metadata": {},
   "outputs": [
    {
     "name": "stderr",
     "output_type": "stream",
     "text": [
      "/tmp/ipykernel_619009/238859286.py:13: DeprecationWarning: an integer is required (got type numpy.float64).  Implicit conversion to integers using __int__ is deprecated, and may be removed in a future version of Python.\n",
      "  return torch.tensor([in_row.uid,in_row.pid,in_row.cid],dtype=torch.int)\n"
     ]
    }
   ],
   "source": [
    "PREDICTIT = test_loop(tst, model)\n",
    "outoutout=ds_test.df_data.copy()\n",
    "outoutout['rating']=PREDICTIT.numpy()\n",
    "ininin = ds_train.df_data.copy()\n",
    "\n",
    "outoutout.loc[outoutout.rating < 1.0,'rating'] = 1.0\n",
    "outoutout.loc[outoutout.rating > 5.0,'rating'] = 5.0\n",
    "\n",
    "ininin['set']='train'\n",
    "outoutout['set']='test'\n",
    "full=ininin.append(outoutout)"
   ]
  },
  {
   "cell_type": "code",
   "execution_count": 11,
   "metadata": {},
   "outputs": [
    {
     "data": {
      "text/plain": [
       "<seaborn.axisgrid.FacetGrid at 0x7ff3b24384c0>"
      ]
     },
     "execution_count": 11,
     "metadata": {},
     "output_type": "execute_result"
    },
    {
     "data": {
      "image/png": "[encoded data removed]",
      "text/plain": [
       "<Figure size 419.375x360 with 1 Axes>"
      ]
     },
     "metadata": {
      "needs_background": "light"
     },
     "output_type": "display_data"
    }
   ],
   "source": [
    "sns.displot(data=full.reset_index(),x='rating',kind='ecdf',hue='set')"
   ]
  },
  {
   "cell_type": "code",
   "execution_count": null,
   "metadata": {},
   "outputs": [],
   "source": [
    "with open(RESULTS_FILE_NAME,'w') as filee:\n",
    "    filee.write(\"reviewerID-itemID,prediction\\n\")\n",
    "    for i in range(len(outoutout)):\n",
    "        filee.write(f\"{outoutout.reviewerID.iloc[i]}-{outoutout.itemID.iloc[i]},{outoutout.rating.iloc[i]}\\n\")"
   ]
  }
 ],
 "metadata": {
  "interpreter": {
   "hash": "9a26948bdb182f228d574474dc2b67ee1ac84203efc7730917543fdcbc6f2c06"
  },
  "kernelspec": {
   "display_name": "Python 3.9.7 64-bit ('base': conda)",
   "language": "python",
   "name": "python3"
  },
  "language_info": {
   "codemirror_mode": {
    "name": "ipython",
    "version": 3
   },
   "file_extension": ".py",
   "mimetype": "text/x-python",
   "name": "python",
   "nbconvert_exporter": "python",
   "pygments_lexer": "ipython3",
   "version": "3.9.7"
  },
  "orig_nbformat": 4
 },
 "nbformat": 4,
 "nbformat_minor": 2
}
