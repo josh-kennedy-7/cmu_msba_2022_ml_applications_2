{
 "cells": [
  {
   "cell_type": "code",
   "execution_count": 1,
   "metadata": {},
   "outputs": [],
   "source": [
    "import torch\n",
    "import os\n",
    "from models.RecSysFlat import RecSysGarbageNetV2\n",
    "import data_mgmt.RecSysData as rsd\n",
    "from data_mgmt.RecSysDataTest import TestRecSysData\n",
    "import seaborn as sns\n",
    "from torch.optim.swa_utils import AveragedModel\n",
    "\n",
    "# default imports because meh\n",
    "import numpy as np\n",
    "import pandas as pd"
   ]
  },
  {
   "cell_type": "code",
   "execution_count": 11,
   "metadata": {},
   "outputs": [],
   "source": [
    "# # # # # # # # # # # # # # # #\n",
    "# INPUTS TO POST PROCESSING!  #\n",
    "# # # # # # # # # # # # # # # #\n",
    "ppath   =   os.path.abspath('../data/')\n",
    "PATH    =   os.path.abspath('models/saved/jimlad.pkl')\n",
    "PATH2   =   os.path.abspath('models/saved/jimswa.pkl')\n",
    "OUTPATH =   os.path.abspath(\"../output/\")\n",
    "\n",
    "test_data_file      = os.path.join(ppath,\"pairs_Rating.txt\")\n",
    "RESULTS_FILE_NAME   = os.path.join(OUTPATH,\"yeah_boye.txt\")"
   ]
  },
  {
   "cell_type": "code",
   "execution_count": 6,
   "metadata": {},
   "outputs": [
    {
     "data": {
      "text/plain": [
       "<All keys matched successfully>"
      ]
     },
     "execution_count": 6,
     "metadata": {},
     "output_type": "execute_result"
    }
   ],
   "source": [
    "omfg = rsd.RecSysData(ppath)\n",
    "wtfbbq = omfg.splitValidation(preshuffle=True, fraction=0.05)\n",
    "trsd = TestRecSysData(omfg.df_data, test_data_file,\n",
    "                        transform=omfg.transform)\n",
    "\n",
    "tdl1 = torch.utils.data.DataLoader(omfg, batch_size=50000, shuffle=False)\n",
    "tdl2 = torch.utils.data.DataLoader(trsd, batch_size=50000, shuffle=False)\n",
    "\n",
    "n_user = omfg.df_data.uid.append(wtfbbq.df_data.uid).unique().shape[0]\n",
    "n_item = omfg.df_data.pid.append(wtfbbq.df_data.pid).unique().shape[0]\n",
    "\n",
    "model = RecSysGarbageNetV2(n_user,n_item,16)\n",
    "swa_model = AveragedModel(model)\n",
    "\n",
    "model.load_state_dict(torch.load(PATH))\n",
    "swa_model.load_state_dict(torch.load(PATH2))"
   ]
  },
  {
   "cell_type": "code",
   "execution_count": 7,
   "metadata": {},
   "outputs": [],
   "source": [
    "def test_loop(dataloader, model):\n",
    "    size = len(dataloader.dataset)\n",
    "    num_batches = len(dataloader)\n",
    "    loss = torch.zeros(1).to(device=device)\n",
    "    predictions=[]\n",
    "\n",
    "    with torch.no_grad():\n",
    "        for X in dataloader:\n",
    "            pred = model(X.type(torch.long)).flatten()\n",
    "            predictions.append(pred)\n",
    "\n",
    "    return predictions"
   ]
  },
  {
   "cell_type": "code",
   "execution_count": 8,
   "metadata": {},
   "outputs": [],
   "source": [
    "PREDICTIT = test_loop(tdl2, model)\n",
    "outoutout=trsd.df_data.copy()\n",
    "outoutout['rating']=PREDICTIT[0].numpy()\n",
    "ininin = omfg.df_data.copy()\n",
    "\n",
    "outoutout.loc[outoutout.rating < 1.0,'rating'] = 1.0\n",
    "outoutout.loc[outoutout.rating > 5.0,'rating'] = 5.0\n",
    "\n",
    "ininin['set']='train'\n",
    "outoutout['set']='test'\n",
    "full=ininin.append(outoutout)"
   ]
  },
  {
   "cell_type": "code",
   "execution_count": 9,
   "metadata": {},
   "outputs": [
    {
     "data": {
      "text/plain": [
       "<seaborn.axisgrid.FacetGrid at 0x7f73e90998b0>"
      ]
     },
     "execution_count": 9,
     "metadata": {},
     "output_type": "execute_result"
    },
    {
     "data": {
      "image/png": "[encoded data removed]",
      "text/plain": [
       "<Figure size 419.375x360 with 1 Axes>"
      ]
     },
     "metadata": {
      "needs_background": "light"
     },
     "output_type": "display_data"
    }
   ],
   "source": [
    "sns.displot(data=full.reset_index(),x='rating',kind='ecdf',hue='set')"
   ]
  },
  {
   "cell_type": "code",
   "execution_count": 12,
   "metadata": {},
   "outputs": [],
   "source": [
    "with open(RESULTS_FILE_NAME,'w') as filee:\n",
    "    filee.write(\"reviewerID-itemID,prediction\\n\")\n",
    "    for i in range(len(outoutout)):\n",
    "        filee.write(f\"{outoutout.reviewerID.iloc[i]}-{outoutout.itemID.iloc[i]},{outoutout.rating.iloc[i]}\\n\")"
   ]
  }
 ],
 "metadata": {
  "interpreter": {
   "hash": "9a26948bdb182f228d574474dc2b67ee1ac84203efc7730917543fdcbc6f2c06"
  },
  "kernelspec": {
   "display_name": "Python 3.9.7 64-bit ('base': conda)",
   "language": "python",
   "name": "python3"
  },
  "language_info": {
   "codemirror_mode": {
    "name": "ipython",
    "version": 3
   },
   "file_extension": ".py",
   "mimetype": "text/x-python",
   "name": "python",
   "nbconvert_exporter": "python",
   "pygments_lexer": "ipython3",
   "version": "3.9.7"
  },
  "orig_nbformat": 4
 },
 "nbformat": 4,
 "nbformat_minor": 2
}
