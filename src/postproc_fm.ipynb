{
 "cells": [
  {
   "cell_type": "code",
   "execution_count": null,
   "metadata": {},
   "outputs": [],
   "source": [
    "import torch\n",
    "from torch.utils.data import DataLoader\n",
    "\n",
    "\n",
    "from data_mgmt import RecSysData as rsd\n",
    "from core.loops import train_loop, test_loop\n",
    "from data_mgmt import ValidationBaseDataClass\n",
    "from data_mgmt.RecSysDataTest import TestRecSysData\n",
    "from models.FactorioMachine import FactorizationMachineModel\n",
    "\n",
    "# default imports because meh\n",
    "import numpy as np\n",
    "import pandas as pd\n",
    "import seaborn as sns\n",
    "import os\n",
    "from copy import deepcopy"
   ]
  },
  {
   "cell_type": "code",
   "execution_count": null,
   "metadata": {},
   "outputs": [],
   "source": [
    "# # # # # # # # # # # # # # # #\n",
    "# INPUTS TO POST PROCESSING!  #\n",
    "# # # # # # # # # # # # # # # #\n",
    "ppath   =   os.path.abspath('../data/')\n",
    "MODEL   =   \"adam_256_001_1e4_500_800_FULL\"+\".pkl\"\n",
    "PATH    =   os.path.join(os.path.abspath('models/saved/'),MODEL)\n",
    "OUTPATH =   os.path.abspath(\"../output/\")\n",
    "\n",
    "test_data_file      = os.path.join(ppath,\"pairs_Rating.txt\")\n",
    "RESULTS_FILE_NAME   = os.path.join(OUTPATH,\"yeah_boye3.txt\")"
   ]
  },
  {
   "cell_type": "code",
   "execution_count": null,
   "metadata": {},
   "outputs": [],
   "source": [
    "ds_train = rsd.RecSysData(ppath)\n",
    "\n",
    "ds_test  = TestRecSysData(ds_train.df_data,\n",
    "                        test_data_file,\n",
    "                        transform=ds_train.transform)\n",
    "\n",
    "tdl = DataLoader(ds_train, batch_size=128, shuffle=False)\n",
    "tst = DataLoader(ds_test, batch_size=128, shuffle=False)\n",
    "\n",
    "n_user = ds_train.df_data.uid.append(ds_test.df_data.uid).unique().shape[0]\n",
    "n_item = ds_train.df_data.pid.append(ds_test.df_data.pid).unique().shape[0]\n",
    "model_dims = np.array([n_user,n_item])\n",
    "\n",
    "model = FactorizationMachineModel(model_dims, 512+128)\n",
    "model.load_state_dict(torch.load(PATH))\n",
    "model.eval()"
   ]
  },
  {
   "cell_type": "code",
   "execution_count": null,
   "metadata": {},
   "outputs": [],
   "source": [
    "model"
   ]
  },
  {
   "cell_type": "code",
   "execution_count": null,
   "metadata": {},
   "outputs": [],
   "source": [
    "def test_loop(dataloader, model):\n",
    "    size = len(dataloader.dataset)\n",
    "    num_batches = len(dataloader)\n",
    "    loss = torch.zeros(1)\n",
    "    predictions = torch.Tensor([])\n",
    "\n",
    "    with torch.no_grad():\n",
    "        for X in dataloader:\n",
    "            pred = model(X.type(torch.long)).flatten()\n",
    "            predictions = torch.cat((predictions,pred),axis=-1)\n",
    "\n",
    "    return predictions"
   ]
  },
  {
   "cell_type": "code",
   "execution_count": null,
   "metadata": {},
   "outputs": [],
   "source": [
    "PREDICTIT = test_loop(tst, model)\n",
    "outoutout=ds_test.df_data.copy()\n",
    "outoutout['rating']=PREDICTIT.numpy()\n",
    "ininin = ds_train.df_data.copy()\n",
    "\n",
    "outoutout.loc[outoutout.rating < 1.0,'rating'] = 1.0\n",
    "outoutout.loc[outoutout.rating > 5.0,'rating'] = 5.0\n",
    "\n",
    "ininin['set']='train'\n",
    "outoutout['set']='test'\n",
    "full=ininin.append(outoutout)"
   ]
  },
  {
   "cell_type": "code",
   "execution_count": null,
   "metadata": {},
   "outputs": [],
   "source": [
    "sns.displot(data=full.reset_index(),x='rating',kind='ecdf',hue='set')"
   ]
  },
  {
   "cell_type": "code",
   "execution_count": null,
   "metadata": {},
   "outputs": [],
   "source": [
    "with open(RESULTS_FILE_NAME,'w') as filee:\n",
    "    filee.write(\"reviewerID-itemID,prediction\\n\")\n",
    "    for i in range(len(outoutout)):\n",
    "        filee.write(f\"{outoutout.reviewerID.iloc[i]}-{outoutout.itemID.iloc[i]},{outoutout.rating.iloc[i]}\\n\")"
   ]
  }
 ],
 "metadata": {
  "interpreter": {
   "hash": "9a26948bdb182f228d574474dc2b67ee1ac84203efc7730917543fdcbc6f2c06"
  },
  "kernelspec": {
   "display_name": "Python 3.9.7 64-bit ('base': conda)",
   "language": "python",
   "name": "python3"
  },
  "language_info": {
   "codemirror_mode": {
    "name": "ipython",
    "version": 3
   },
   "file_extension": ".py",
   "mimetype": "text/x-python",
   "name": "python",
   "nbconvert_exporter": "python",
   "pygments_lexer": "ipython3",
   "version": "3.9.7"
  },
  "orig_nbformat": 4
 },
 "nbformat": 4,
 "nbformat_minor": 2
}
