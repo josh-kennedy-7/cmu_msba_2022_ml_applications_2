{
 "cells": [
  {
   "cell_type": "markdown",
   "id": "f0c59fd4",
   "metadata": {},
   "source": [
    "# Using - joshk-rating-pred-2021-12-10.py"
   ]
  },
  {
   "cell_type": "code",
   "execution_count": 5,
   "id": "1d8c725b",
   "metadata": {},
   "outputs": [],
   "source": [
    "import pandas as pd\n",
    "import tarfile\n",
    "from tqdm import tqdm\n",
    "import json\n",
    "import numpy as np\n",
    "import time\n",
    "from copy import deepcopy\n",
    "from src.data_mgmt.BaseDataClass import BaseDataClass as bdc\n",
    "\n",
    "from surprise import SVD\n",
    "from surprise import SVDpp\n",
    "from surprise import accuracy\n",
    "from surprise import Reader\n",
    "from surprise import Dataset\n",
    "from surprise import BaselineOnly"
   ]
  },
  {
   "cell_type": "code",
   "execution_count": 6,
   "id": "d14226b8",
   "metadata": {},
   "outputs": [
    {
     "name": "stderr",
     "output_type": "stream",
     "text": [
      "Loading JSON into Dataframe: 200000it [00:15, 12724.43it/s]\n"
     ]
    }
   ],
   "source": [
    "rawdf = bdc._loadUpDf('/Users/andrealevy/cmu_msba_2022_ml_applications_2/data/','train','.json.gz')\n",
    "rawdf['date'] = rawdf['reviewTime']\n",
    "df = rawdf.copy()"
   ]
  },
  {
   "cell_type": "code",
   "execution_count": 7,
   "id": "bd8b8b6d",
   "metadata": {},
   "outputs": [],
   "source": [
    "SAMPLING_RATE = 5/5\n",
    "user_id_unique = df['reviewerID'].unique()\n",
    "user_id_sample = pd.DataFrame(user_id_unique, columns=['unique_user_id']) \\\n",
    "                    .sample(frac= SAMPLING_RATE, replace=False, random_state=1)\n",
    "ratings_sample = df.merge(user_id_sample, left_on='reviewerID', right_on='unique_user_id') \\\n",
    "                    .drop(['unique_user_id'], axis=1)"
   ]
  },
  {
   "cell_type": "code",
   "execution_count": 8,
   "id": "4333efed",
   "metadata": {},
   "outputs": [],
   "source": [
    "# most recent review is testset, second most recent is val, rest are train\n",
    "ratings_sample['review_date_rank'] = ratings_sample.groupby('reviewerID')['date'].rank(ascending=False)\n",
    "testset = ratings_sample[ratings_sample['review_date_rank'] == 1].copy()\n",
    "valset = ratings_sample[ratings_sample['review_date_rank'] == 2].copy()\n",
    "trainset = ratings_sample[ratings_sample['review_date_rank'] > 2].copy()"
   ]
  },
  {
   "cell_type": "code",
   "execution_count": 9,
   "id": "a6f4ca83",
   "metadata": {},
   "outputs": [
    {
     "name": "stdout",
     "output_type": "stream",
     "text": [
      "Estimating biases using als...\n"
     ]
    }
   ],
   "source": [
    "reader = Reader(rating_scale = (1.0, 5.0))\n",
    "train_data = Dataset.load_from_df(trainset[['reviewerID','itemID','rating']], reader)\n",
    "val_data = Dataset.load_from_df(valset[['reviewerID','itemID','rating']], reader)\n",
    "test_data = Dataset.load_from_df(testset[['reviewerID','itemID','rating']], reader)\n",
    "train_sr = train_data.build_full_trainset()\n",
    "val_sr_before = val_data.build_full_trainset()\n",
    "val_sr = val_sr_before.build_testset()\n",
    "test_sr_before = test_data.build_full_trainset()\n",
    "test_sr = test_sr_before.build_testset()\n",
    "bsl_options = {'method': 'als', 'n_epochs':3}\n",
    "bias_baseline = BaselineOnly(bsl_options)\n",
    "bias_baseline.fit(train_sr)\n",
    "predictions = bias_baseline.test(val_sr)"
   ]
  },
  {
   "cell_type": "code",
   "execution_count": 12,
   "id": "c2ac6d84",
   "metadata": {},
   "outputs": [
    {
     "name": "stdout",
     "output_type": "stream",
     "text": [
      "Starting n=10, l=0.002, r=0.4\n",
      "RMSE: 1.0929\n",
      "Starting n=10, l=0.002, r=0.5\n",
      "RMSE: 1.0920\n",
      "Starting n=10, l=0.002, r=0.6\n",
      "RMSE: 1.0929\n",
      "Starting n=10, l=0.002, r=0.7\n",
      "RMSE: 1.0928\n",
      "Starting n=10, l=0.002, r=0.8\n",
      "RMSE: 1.0939\n",
      "Starting n=10, l=0.003, r=0.4\n",
      "RMSE: 1.0882\n",
      "Starting n=10, l=0.003, r=0.5\n",
      "RMSE: 1.0877\n",
      "Starting n=10, l=0.003, r=0.6\n",
      "RMSE: 1.0886\n",
      "Starting n=10, l=0.003, r=0.7\n",
      "RMSE: 1.0877\n",
      "Starting n=10, l=0.003, r=0.8\n",
      "RMSE: 1.0888\n",
      "Starting n=10, l=0.005, r=0.4\n",
      "RMSE: 1.0822\n",
      "Starting n=10, l=0.005, r=0.5\n",
      "RMSE: 1.0813\n",
      "Starting n=10, l=0.005, r=0.6\n",
      "RMSE: 1.0821\n",
      "Starting n=10, l=0.005, r=0.7\n",
      "RMSE: 1.0819\n",
      "Starting n=10, l=0.005, r=0.8\n",
      "RMSE: 1.0822\n",
      "Starting n=10, l=0.008, r=0.4\n",
      "RMSE: 1.0763\n",
      "Starting n=10, l=0.008, r=0.5\n",
      "RMSE: 1.0755\n",
      "Starting n=10, l=0.008, r=0.6\n",
      "RMSE: 1.0763\n",
      "Starting n=10, l=0.008, r=0.7\n",
      "RMSE: 1.0761\n",
      "Starting n=10, l=0.008, r=0.8\n",
      "RMSE: 1.0764\n",
      "Starting n=15, l=0.002, r=0.4\n",
      "RMSE: 1.0884\n",
      "Starting n=15, l=0.002, r=0.5\n",
      "RMSE: 1.0889\n",
      "Starting n=15, l=0.002, r=0.6\n",
      "RMSE: 1.0890\n",
      "Starting n=15, l=0.002, r=0.7\n",
      "RMSE: 1.0874\n",
      "Starting n=15, l=0.002, r=0.8\n",
      "RMSE: 1.0882\n",
      "Starting n=15, l=0.003, r=0.4\n",
      "RMSE: 1.0833\n",
      "Starting n=15, l=0.003, r=0.5\n",
      "RMSE: 1.0832\n",
      "Starting n=15, l=0.003, r=0.6\n",
      "RMSE: 1.0819\n",
      "Starting n=15, l=0.003, r=0.7\n",
      "RMSE: 1.0827\n",
      "Starting n=15, l=0.003, r=0.8\n",
      "RMSE: 1.0830\n",
      "Starting n=15, l=0.005, r=0.4\n",
      "RMSE: 1.0766\n",
      "Starting n=15, l=0.005, r=0.5\n",
      "RMSE: 1.0774\n",
      "Starting n=15, l=0.005, r=0.6\n",
      "RMSE: 1.0775\n",
      "Starting n=15, l=0.005, r=0.7\n",
      "RMSE: 1.0769\n",
      "Starting n=15, l=0.005, r=0.8\n",
      "RMSE: 1.0769\n",
      "Starting n=15, l=0.008, r=0.4\n",
      "RMSE: 1.0736\n",
      "Starting n=15, l=0.008, r=0.5\n",
      "RMSE: 1.0726\n",
      "Starting n=15, l=0.008, r=0.6\n",
      "RMSE: 1.0733\n",
      "Starting n=15, l=0.008, r=0.7\n",
      "RMSE: 1.0731\n",
      "Starting n=15, l=0.008, r=0.8\n",
      "RMSE: 1.0730\n",
      "Starting n=25, l=0.002, r=0.4\n",
      "RMSE: 1.0817\n",
      "Starting n=25, l=0.002, r=0.5\n",
      "RMSE: 1.0818\n",
      "Starting n=25, l=0.002, r=0.6\n",
      "RMSE: 1.0817\n",
      "Starting n=25, l=0.002, r=0.7\n",
      "RMSE: 1.0818\n",
      "Starting n=25, l=0.002, r=0.8\n",
      "RMSE: 1.0819\n",
      "Starting n=25, l=0.003, r=0.4\n",
      "RMSE: 1.0769\n",
      "Starting n=25, l=0.003, r=0.5\n",
      "RMSE: 1.0774\n",
      "Starting n=25, l=0.003, r=0.6\n",
      "RMSE: 1.0767\n",
      "Starting n=25, l=0.003, r=0.7\n",
      "RMSE: 1.0771\n",
      "Starting n=25, l=0.003, r=0.8\n",
      "RMSE: 1.0772\n",
      "Starting n=25, l=0.005, r=0.4\n",
      "RMSE: 1.0729\n",
      "Starting n=25, l=0.005, r=0.5\n",
      "RMSE: 1.0725\n",
      "Starting n=25, l=0.005, r=0.6\n",
      "RMSE: 1.0728\n",
      "Starting n=25, l=0.005, r=0.7\n",
      "RMSE: 1.0727\n",
      "Starting n=25, l=0.005, r=0.8\n",
      "RMSE: 1.0729\n",
      "Starting n=25, l=0.008, r=0.4\n",
      "RMSE: 1.0730\n",
      "Starting n=25, l=0.008, r=0.5\n",
      "RMSE: 1.0724\n",
      "Starting n=25, l=0.008, r=0.6\n",
      "RMSE: 1.0721\n",
      "Starting n=25, l=0.008, r=0.7\n",
      "RMSE: 1.0719\n",
      "Starting n=25, l=0.008, r=0.8\n",
      "RMSE: 1.0715\n",
      "Starting n=50, l=0.002, r=0.4\n",
      "RMSE: 1.0735\n",
      "Starting n=50, l=0.002, r=0.5\n",
      "RMSE: 1.0745\n",
      "Starting n=50, l=0.002, r=0.6\n",
      "RMSE: 1.0740\n",
      "Starting n=50, l=0.002, r=0.7\n",
      "RMSE: 1.0742\n",
      "Starting n=50, l=0.002, r=0.8\n",
      "RMSE: 1.0747\n",
      "Starting n=50, l=0.003, r=0.4\n",
      "RMSE: 1.0730\n",
      "Starting n=50, l=0.003, r=0.5\n",
      "RMSE: 1.0725\n",
      "Starting n=50, l=0.003, r=0.6\n",
      "RMSE: 1.0724\n",
      "Starting n=50, l=0.003, r=0.7\n",
      "RMSE: 1.0724\n",
      "Starting n=50, l=0.003, r=0.8\n",
      "RMSE: 1.0716\n",
      "Starting n=50, l=0.005, r=0.4\n",
      "RMSE: 1.0744\n",
      "Starting n=50, l=0.005, r=0.5\n",
      "RMSE: 1.0732\n",
      "Starting n=50, l=0.005, r=0.6\n",
      "RMSE: 1.0726\n",
      "Starting n=50, l=0.005, r=0.7\n",
      "RMSE: 1.0726\n",
      "Starting n=50, l=0.005, r=0.8\n",
      "RMSE: 1.0724\n",
      "Starting n=50, l=0.008, r=0.4\n",
      "RMSE: 1.0784\n",
      "Starting n=50, l=0.008, r=0.5\n",
      "RMSE: 1.0780\n",
      "Starting n=50, l=0.008, r=0.6\n",
      "RMSE: 1.0776\n",
      "Starting n=50, l=0.008, r=0.7\n",
      "RMSE: 1.0767\n",
      "Starting n=50, l=0.008, r=0.8\n",
      "RMSE: 1.0760\n",
      "RMSE: 1.0807\n"
     ]
    },
    {
     "data": {
      "text/plain": [
       "1.0806867213189424"
      ]
     },
     "execution_count": 12,
     "metadata": {},
     "output_type": "execute_result"
    }
   ],
   "source": [
    "RMSE_tune = {}\n",
    "#min(list(RMSE_tune.values()))\n",
    "n_epochs = [10, 15, 25, 50]  # the number of iteration of the SGD procedure\n",
    "lr_all = [0.002, 0.003, 0.005, 0.008] # the learning rate for all parameters\n",
    "reg_all =  [0.4, 0.5, 0.6, 0.7, 0.8] # the regularization term for all parameters\n",
    "# n_epochs = [25]  # the number of iteration of the SGD procedure\n",
    "# lr_all = [0.005] # the learning rate for all parameters\n",
    "# reg_all =  [0.02] # the regularization term for all parameters\n",
    "for n in n_epochs:\n",
    "    for l in lr_all:\n",
    "        for r in reg_all:\n",
    "            print(f'Starting n={n}, l={l}, r={r}')\n",
    "            algo = SVD(n_epochs = n, lr_all = l, reg_all = r)\n",
    "            algo.fit(train_sr)\n",
    "            predictions = algo.test(val_sr)\n",
    "            RMSE_tune[n,l,r] = accuracy.rmse(predictions)\n",
    "algo_real = SVD(n_epochs = 25, lr_all = 0.008, reg_all = 0.8)\n",
    "algo_real.fit(train_sr)\n",
    "predictions = algo_real.test(test_sr)\n",
    "accuracy.rmse(predictions)"
   ]
  },
  {
   "cell_type": "code",
   "execution_count": 13,
   "id": "fea15d99",
   "metadata": {},
   "outputs": [
    {
     "data": {
      "text/plain": [
       "1.0714571741783212"
      ]
     },
     "execution_count": 13,
     "metadata": {},
     "output_type": "execute_result"
    }
   ],
   "source": [
    "min(list(RMSE_tune.values()))"
   ]
  },
  {
   "cell_type": "code",
   "execution_count": 17,
   "id": "95cea06e",
   "metadata": {},
   "outputs": [
    {
     "name": "stdout",
     "output_type": "stream",
     "text": [
      "Starting n=25, l=0.008, r=0.8\n",
      "RMSE: 1.0719\n",
      "RMSE: 1.0804\n"
     ]
    },
    {
     "data": {
      "text/plain": [
       "1.0803599537599349"
      ]
     },
     "execution_count": 17,
     "metadata": {},
     "output_type": "execute_result"
    }
   ],
   "source": [
    "#with minimum RMSE values\n",
    "RMSE_tune = {}\n",
    "#n_epochs = [10, 15, 25, 50]  # the number of iteration of the SGD procedure\n",
    "#lr_all = [0.002, 0.003, 0.005, 0.008] # the learning rate for all parameters\n",
    "#reg_all =  [0.4, 0.5, 0.6, 0.7, 0.8] # the regularization term for all parameters\n",
    "n_epochs = [25]  # the number of iteration of the SGD procedure\n",
    "lr_all = [0.008] # the learning rate for all parameters\n",
    "reg_all =  [0.8] # the regularization term for all parameters\n",
    "for n in n_epochs:\n",
    "    for l in lr_all:\n",
    "        for r in reg_all:\n",
    "            print(f'Starting n={n}, l={l}, r={r}')\n",
    "            algo = SVD(n_epochs = n, lr_all = l, reg_all = r)\n",
    "            algo.fit(train_sr)\n",
    "            predictions = algo.test(val_sr)\n",
    "            RMSE_tune[n,l,r] = accuracy.rmse(predictions)\n",
    "algo_real = SVD(n_epochs = 25, lr_all = 0.008, reg_all = 0.8)\n",
    "algo_real.fit(train_sr)\n",
    "predictions = algo_real.test(test_sr)\n",
    "accuracy.rmse(predictions)"
   ]
  },
  {
   "cell_type": "code",
   "execution_count": 19,
   "id": "a5fdee6b",
   "metadata": {},
   "outputs": [
    {
     "name": "stdout",
     "output_type": "stream",
     "text": [
      "Starting n=25, l=0.005, r=0.02\n",
      "RMSE: 1.0785\n",
      "RMSE: 1.0809\n"
     ]
    },
    {
     "data": {
      "text/plain": [
       "1.08092468532757"
      ]
     },
     "execution_count": 19,
     "metadata": {},
     "output_type": "execute_result"
    }
   ],
   "source": [
    "RMSE_tune = {}\n",
    "#n_epochs = [10, 15, 25, 50]  # the number of iteration of the SGD procedure\n",
    "#lr_all = [0.002, 0.003, 0.005, 0.008] # the learning rate for all parameters\n",
    "#reg_all =  [0.4, 0.5, 0.6, 0.7, 0.8] # the regularization term for all parameters\n",
    "n_epochs = [25]  # the number of iteration of the SGD procedure\n",
    "lr_all = [0.005] # the learning rate for all parameters\n",
    "reg_all =  [0.02] # the regularization term for all parameters\n",
    "for n in n_epochs:\n",
    "    for l in lr_all:\n",
    "        for r in reg_all:\n",
    "            print(f'Starting n={n}, l={l}, r={r}')\n",
    "            algo = SVD(n_epochs = n, lr_all = l, reg_all = r)\n",
    "            algo.fit(train_sr)\n",
    "            predictions = algo.test(val_sr)\n",
    "            RMSE_tune[n,l,r] = accuracy.rmse(predictions)\n",
    "algo_real = SVD(n_epochs = 25, lr_all = 0.008, reg_all = 0.8)\n",
    "algo_real.fit(train_sr)\n",
    "predictions = algo_real.test(test_sr)\n",
    "accuracy.rmse(predictions)"
   ]
  },
  {
   "cell_type": "code",
   "execution_count": 27,
   "id": "2cf92e15",
   "metadata": {},
   "outputs": [
    {
     "name": "stdout",
     "output_type": "stream",
     "text": [
      "RMSE: 4.2541\n"
     ]
    },
    {
     "data": {
      "text/plain": [
       "4.2541170763070495"
      ]
     },
     "execution_count": 27,
     "metadata": {},
     "output_type": "execute_result"
    }
   ],
   "source": [
    "actualtestset = pd.read_csv('/Users/andrealevy/cmu_msba_2022_ml_applications_2/data/pairs_Purchase.txt')\n",
    "actualtestset[['reviewerID','itemID']] = actualtestset['reviewerID-itemID'].str.split(\"-\",expand=True)\n",
    "actualtestset['rating'] = 0\n",
    "actual_test_data = Dataset.load_from_df(actualtestset[['reviewerID','itemID','rating']], reader)\n",
    "actual_test_sr_before = actual_test_data.build_full_trainset()\n",
    "actual_test_sr = actual_test_sr_before.build_testset()\n",
    "actual_predictions = algo_real.test(actual_test_sr)\n",
    "accuracy.rmse(actual_predictions)"
   ]
  },
  {
   "cell_type": "code",
   "execution_count": 28,
   "id": "b88b3c88",
   "metadata": {},
   "outputs": [],
   "source": [
    "actual_pred_dict = {}\n",
    "for i in actual_predictions:\n",
    "    actual_pred_dict[i[0]] = i[3]\n",
    "\n",
    "actual_test_output = actualtestset.copy()\n",
    "actual_test_output['rating'] = actual_test_output['reviewerID'].map(actual_pred_dict)"
   ]
  },
  {
   "cell_type": "code",
   "execution_count": 29,
   "id": "27d8f5f5",
   "metadata": {},
   "outputs": [
    {
     "data": {
      "text/html": [
       "<div>\n",
       "<style scoped>\n",
       "    .dataframe tbody tr th:only-of-type {\n",
       "        vertical-align: middle;\n",
       "    }\n",
       "\n",
       "    .dataframe tbody tr th {\n",
       "        vertical-align: top;\n",
       "    }\n",
       "\n",
       "    .dataframe thead th {\n",
       "        text-align: right;\n",
       "    }\n",
       "</style>\n",
       "<table border=\"1\" class=\"dataframe\">\n",
       "  <thead>\n",
       "    <tr style=\"text-align: right;\">\n",
       "      <th></th>\n",
       "      <th>reviewerID-itemID</th>\n",
       "      <th>prediction</th>\n",
       "      <th>reviewerID</th>\n",
       "      <th>itemID</th>\n",
       "      <th>rating</th>\n",
       "    </tr>\n",
       "  </thead>\n",
       "  <tbody>\n",
       "    <tr>\n",
       "      <th>0</th>\n",
       "      <td>U938994110-I529819131</td>\n",
       "      <td>NaN</td>\n",
       "      <td>U938994110</td>\n",
       "      <td>I529819131</td>\n",
       "      <td>4.170032</td>\n",
       "    </tr>\n",
       "    <tr>\n",
       "      <th>1</th>\n",
       "      <td>U181459539-I863471064</td>\n",
       "      <td>NaN</td>\n",
       "      <td>U181459539</td>\n",
       "      <td>I863471064</td>\n",
       "      <td>4.449839</td>\n",
       "    </tr>\n",
       "    <tr>\n",
       "      <th>2</th>\n",
       "      <td>U941668816-I684585522</td>\n",
       "      <td>NaN</td>\n",
       "      <td>U941668816</td>\n",
       "      <td>I684585522</td>\n",
       "      <td>3.649611</td>\n",
       "    </tr>\n",
       "    <tr>\n",
       "      <th>3</th>\n",
       "      <td>U768449391-I782253949</td>\n",
       "      <td>NaN</td>\n",
       "      <td>U768449391</td>\n",
       "      <td>I782253949</td>\n",
       "      <td>4.370378</td>\n",
       "    </tr>\n",
       "    <tr>\n",
       "      <th>4</th>\n",
       "      <td>U640450168-I232683472</td>\n",
       "      <td>NaN</td>\n",
       "      <td>U640450168</td>\n",
       "      <td>I232683472</td>\n",
       "      <td>4.137017</td>\n",
       "    </tr>\n",
       "    <tr>\n",
       "      <th>...</th>\n",
       "      <td>...</td>\n",
       "      <td>...</td>\n",
       "      <td>...</td>\n",
       "      <td>...</td>\n",
       "      <td>...</td>\n",
       "    </tr>\n",
       "    <tr>\n",
       "      <th>27995</th>\n",
       "      <td>U337041888-I763827121</td>\n",
       "      <td>NaN</td>\n",
       "      <td>U337041888</td>\n",
       "      <td>I763827121</td>\n",
       "      <td>4.388414</td>\n",
       "    </tr>\n",
       "    <tr>\n",
       "      <th>27996</th>\n",
       "      <td>U457455307-I242828364</td>\n",
       "      <td>NaN</td>\n",
       "      <td>U457455307</td>\n",
       "      <td>I242828364</td>\n",
       "      <td>3.862391</td>\n",
       "    </tr>\n",
       "    <tr>\n",
       "      <th>27997</th>\n",
       "      <td>U052546714-I111529174</td>\n",
       "      <td>NaN</td>\n",
       "      <td>U052546714</td>\n",
       "      <td>I111529174</td>\n",
       "      <td>4.569858</td>\n",
       "    </tr>\n",
       "    <tr>\n",
       "      <th>27998</th>\n",
       "      <td>U566804667-I857242737</td>\n",
       "      <td>NaN</td>\n",
       "      <td>U566804667</td>\n",
       "      <td>I857242737</td>\n",
       "      <td>3.588792</td>\n",
       "    </tr>\n",
       "    <tr>\n",
       "      <th>27999</th>\n",
       "      <td>U691248665-I871166941</td>\n",
       "      <td>NaN</td>\n",
       "      <td>U691248665</td>\n",
       "      <td>I871166941</td>\n",
       "      <td>3.480347</td>\n",
       "    </tr>\n",
       "  </tbody>\n",
       "</table>\n",
       "<p>28000 rows × 5 columns</p>\n",
       "</div>"
      ],
      "text/plain": [
       "           reviewerID-itemID  prediction  reviewerID      itemID    rating\n",
       "0      U938994110-I529819131         NaN  U938994110  I529819131  4.170032\n",
       "1      U181459539-I863471064         NaN  U181459539  I863471064  4.449839\n",
       "2      U941668816-I684585522         NaN  U941668816  I684585522  3.649611\n",
       "3      U768449391-I782253949         NaN  U768449391  I782253949  4.370378\n",
       "4      U640450168-I232683472         NaN  U640450168  I232683472  4.137017\n",
       "...                      ...         ...         ...         ...       ...\n",
       "27995  U337041888-I763827121         NaN  U337041888  I763827121  4.388414\n",
       "27996  U457455307-I242828364         NaN  U457455307  I242828364  3.862391\n",
       "27997  U052546714-I111529174         NaN  U052546714  I111529174  4.569858\n",
       "27998  U566804667-I857242737         NaN  U566804667  I857242737  3.588792\n",
       "27999  U691248665-I871166941         NaN  U691248665  I871166941  3.480347\n",
       "\n",
       "[28000 rows x 5 columns]"
      ]
     },
     "execution_count": 29,
     "metadata": {},
     "output_type": "execute_result"
    }
   ],
   "source": [
    "actual_test_output"
   ]
  },
  {
   "cell_type": "code",
   "execution_count": 40,
   "id": "0ee4c3a5",
   "metadata": {},
   "outputs": [],
   "source": [
    "for i in range(len(actual_test_output)):\n",
    "    if actual_test_output.iloc[i,4] >= 4.5:\n",
    "        actual_test_output.iloc[i,1] = 1\n",
    "    else:\n",
    "        actual_test_output.iloc[i,1] = 0"
   ]
  },
  {
   "cell_type": "code",
   "execution_count": 41,
   "id": "3df34974",
   "metadata": {},
   "outputs": [
    {
     "data": {
      "text/html": [
       "<div>\n",
       "<style scoped>\n",
       "    .dataframe tbody tr th:only-of-type {\n",
       "        vertical-align: middle;\n",
       "    }\n",
       "\n",
       "    .dataframe tbody tr th {\n",
       "        vertical-align: top;\n",
       "    }\n",
       "\n",
       "    .dataframe thead th {\n",
       "        text-align: right;\n",
       "    }\n",
       "</style>\n",
       "<table border=\"1\" class=\"dataframe\">\n",
       "  <thead>\n",
       "    <tr style=\"text-align: right;\">\n",
       "      <th></th>\n",
       "      <th>reviewerID-itemID</th>\n",
       "      <th>prediction</th>\n",
       "      <th>reviewerID</th>\n",
       "      <th>itemID</th>\n",
       "      <th>rating</th>\n",
       "    </tr>\n",
       "  </thead>\n",
       "  <tbody>\n",
       "    <tr>\n",
       "      <th>0</th>\n",
       "      <td>U938994110-I529819131</td>\n",
       "      <td>0.0</td>\n",
       "      <td>U938994110</td>\n",
       "      <td>I529819131</td>\n",
       "      <td>4.170032</td>\n",
       "    </tr>\n",
       "    <tr>\n",
       "      <th>1</th>\n",
       "      <td>U181459539-I863471064</td>\n",
       "      <td>0.0</td>\n",
       "      <td>U181459539</td>\n",
       "      <td>I863471064</td>\n",
       "      <td>4.449839</td>\n",
       "    </tr>\n",
       "    <tr>\n",
       "      <th>2</th>\n",
       "      <td>U941668816-I684585522</td>\n",
       "      <td>0.0</td>\n",
       "      <td>U941668816</td>\n",
       "      <td>I684585522</td>\n",
       "      <td>3.649611</td>\n",
       "    </tr>\n",
       "    <tr>\n",
       "      <th>3</th>\n",
       "      <td>U768449391-I782253949</td>\n",
       "      <td>0.0</td>\n",
       "      <td>U768449391</td>\n",
       "      <td>I782253949</td>\n",
       "      <td>4.370378</td>\n",
       "    </tr>\n",
       "    <tr>\n",
       "      <th>4</th>\n",
       "      <td>U640450168-I232683472</td>\n",
       "      <td>0.0</td>\n",
       "      <td>U640450168</td>\n",
       "      <td>I232683472</td>\n",
       "      <td>4.137017</td>\n",
       "    </tr>\n",
       "    <tr>\n",
       "      <th>...</th>\n",
       "      <td>...</td>\n",
       "      <td>...</td>\n",
       "      <td>...</td>\n",
       "      <td>...</td>\n",
       "      <td>...</td>\n",
       "    </tr>\n",
       "    <tr>\n",
       "      <th>27995</th>\n",
       "      <td>U337041888-I763827121</td>\n",
       "      <td>0.0</td>\n",
       "      <td>U337041888</td>\n",
       "      <td>I763827121</td>\n",
       "      <td>4.388414</td>\n",
       "    </tr>\n",
       "    <tr>\n",
       "      <th>27996</th>\n",
       "      <td>U457455307-I242828364</td>\n",
       "      <td>0.0</td>\n",
       "      <td>U457455307</td>\n",
       "      <td>I242828364</td>\n",
       "      <td>3.862391</td>\n",
       "    </tr>\n",
       "    <tr>\n",
       "      <th>27997</th>\n",
       "      <td>U052546714-I111529174</td>\n",
       "      <td>1.0</td>\n",
       "      <td>U052546714</td>\n",
       "      <td>I111529174</td>\n",
       "      <td>4.569858</td>\n",
       "    </tr>\n",
       "    <tr>\n",
       "      <th>27998</th>\n",
       "      <td>U566804667-I857242737</td>\n",
       "      <td>0.0</td>\n",
       "      <td>U566804667</td>\n",
       "      <td>I857242737</td>\n",
       "      <td>3.588792</td>\n",
       "    </tr>\n",
       "    <tr>\n",
       "      <th>27999</th>\n",
       "      <td>U691248665-I871166941</td>\n",
       "      <td>0.0</td>\n",
       "      <td>U691248665</td>\n",
       "      <td>I871166941</td>\n",
       "      <td>3.480347</td>\n",
       "    </tr>\n",
       "  </tbody>\n",
       "</table>\n",
       "<p>28000 rows × 5 columns</p>\n",
       "</div>"
      ],
      "text/plain": [
       "           reviewerID-itemID  prediction  reviewerID      itemID    rating\n",
       "0      U938994110-I529819131         0.0  U938994110  I529819131  4.170032\n",
       "1      U181459539-I863471064         0.0  U181459539  I863471064  4.449839\n",
       "2      U941668816-I684585522         0.0  U941668816  I684585522  3.649611\n",
       "3      U768449391-I782253949         0.0  U768449391  I782253949  4.370378\n",
       "4      U640450168-I232683472         0.0  U640450168  I232683472  4.137017\n",
       "...                      ...         ...         ...         ...       ...\n",
       "27995  U337041888-I763827121         0.0  U337041888  I763827121  4.388414\n",
       "27996  U457455307-I242828364         0.0  U457455307  I242828364  3.862391\n",
       "27997  U052546714-I111529174         1.0  U052546714  I111529174  4.569858\n",
       "27998  U566804667-I857242737         0.0  U566804667  I857242737  3.588792\n",
       "27999  U691248665-I871166941         0.0  U691248665  I871166941  3.480347\n",
       "\n",
       "[28000 rows x 5 columns]"
      ]
     },
     "execution_count": 41,
     "metadata": {},
     "output_type": "execute_result"
    }
   ],
   "source": [
    "actual_test_output"
   ]
  },
  {
   "cell_type": "code",
   "execution_count": 42,
   "id": "804f3726",
   "metadata": {},
   "outputs": [],
   "source": [
    "actual_test_output[['reviewerID-itemID','prediction']].to_csv('Andrea-RatingsPurchase-2021-12-13v4.csv')"
   ]
  },
  {
   "cell_type": "code",
   "execution_count": 43,
   "id": "efef3966",
   "metadata": {},
   "outputs": [
    {
     "data": {
      "text/plain": [
       "2.303946159698533"
      ]
     },
     "execution_count": 43,
     "metadata": {},
     "output_type": "execute_result"
    }
   ],
   "source": [
    "min(actual_test_output['rating'])"
   ]
  },
  {
   "cell_type": "code",
   "execution_count": null,
   "id": "bafd4487",
   "metadata": {},
   "outputs": [],
   "source": []
  }
 ],
 "metadata": {
  "kernelspec": {
   "display_name": "Python 3 (ipykernel)",
   "language": "python",
   "name": "python3"
  },
  "language_info": {
   "codemirror_mode": {
    "name": "ipython",
    "version": 3
   },
   "file_extension": ".py",
   "mimetype": "text/x-python",
   "name": "python",
   "nbconvert_exporter": "python",
   "pygments_lexer": "ipython3",
   "version": "3.8.12"
  }
 },
 "nbformat": 4,
 "nbformat_minor": 5
}
